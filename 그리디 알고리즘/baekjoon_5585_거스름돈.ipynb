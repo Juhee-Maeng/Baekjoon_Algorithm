{
 "cells": [
  {
   "cell_type": "markdown",
   "metadata": {},
   "source": [
    "# baekjoon algorithm\n",
    "\n",
    "## 5585번 / 거스름돈\n",
    "\n",
    "### 출처 : https://www.acmicpc.net/problem/5585"
   ]
  },
  {
   "cell_type": "code",
   "execution_count": 1,
   "metadata": {},
   "outputs": [
    {
     "name": "stdout",
     "output_type": "stream",
     "text": [
      "380\n"
     ]
    }
   ],
   "source": [
    "pay_money = int(input())"
   ]
  },
  {
   "cell_type": "code",
   "execution_count": 2,
   "metadata": {},
   "outputs": [],
   "source": [
    "x = 1000 - pay_money\n",
    "pay_min = 0"
   ]
  },
  {
   "cell_type": "code",
   "execution_count": 3,
   "metadata": {},
   "outputs": [],
   "source": [
    "if((x//500) != 0):\n",
    "    pay_min = pay_min + (x//500)\n",
    "    x = x - 500*(x//500)\n",
    "\n",
    "if((x//100) != 0):\n",
    "    pay_min = pay_min + (x//100)\n",
    "    x = x - 100*(x//100)\n",
    "\n",
    "if((x//50) != 0):\n",
    "    pay_min = pay_min + (x//50)\n",
    "    x = x - 50*(x//50)\n",
    "\n",
    "if((x//10) != 0):\n",
    "    pay_min = pay_min + (x//10)\n",
    "    x = x - 10*(x//10)\n",
    "    \n",
    "if((x//5) != 0):\n",
    "    pay_min = pay_min + (x//5)\n",
    "    x = x - 5*(x//5)\n",
    "\n",
    "if((x//1) != 0):\n",
    "    pay_min = pay_min + (x//1)\n",
    "    x = x - 1*(x//1)"
   ]
  },
  {
   "cell_type": "code",
   "execution_count": 4,
   "metadata": {},
   "outputs": [
    {
     "name": "stdout",
     "output_type": "stream",
     "text": [
      "4\n"
     ]
    }
   ],
   "source": [
    "print(pay_min)"
   ]
  }
 ],
 "metadata": {
  "kernelspec": {
   "display_name": "Python 3",
   "language": "python",
   "name": "python3"
  },
  "language_info": {
   "codemirror_mode": {
    "name": "ipython",
    "version": 3
   },
   "file_extension": ".py",
   "mimetype": "text/x-python",
   "name": "python",
   "nbconvert_exporter": "python",
   "pygments_lexer": "ipython3",
   "version": "3.7.3"
  }
 },
 "nbformat": 4,
 "nbformat_minor": 2
}
