{
 "cells": [
  {
   "cell_type": "markdown",
   "metadata": {},
   "source": [
    "# baekjoon algorithm\n",
    "\n",
    "## 문제 번호 : 2828번\n",
    "\n",
    "## 제목 : 사과 담기 게임\n",
    "\n",
    "### 출처 : https://www.acmicpc.net/problem/2828"
   ]
  },
  {
   "cell_type": "code",
   "execution_count": 16,
   "metadata": {},
   "outputs": [],
   "source": [
    "import sys"
   ]
  },
  {
   "cell_type": "code",
   "execution_count": 17,
   "metadata": {},
   "outputs": [
    {
     "name": "stdout",
     "output_type": "stream",
     "text": [
      "5 1\n"
     ]
    }
   ],
   "source": [
    "N,M = map(int, input().split())\n",
    "# M_list : [바구니 맨 왼쪽 위치, 바구니 맨 오른쪽 위치]\n",
    "M_list = [1,M]"
   ]
  },
  {
   "cell_type": "code",
   "execution_count": 18,
   "metadata": {},
   "outputs": [
    {
     "name": "stdout",
     "output_type": "stream",
     "text": [
      "3\n"
     ]
    }
   ],
   "source": [
    "apple_amount = int(input())"
   ]
  },
  {
   "cell_type": "code",
   "execution_count": 20,
   "metadata": {},
   "outputs": [
    {
     "name": "stdout",
     "output_type": "stream",
     "text": [
      "1\n",
      "5\n",
      "3\n"
     ]
    }
   ],
   "source": [
    "moving = 0\n",
    "for i in range(apple_amount):\n",
    "    apple_location = int(input())\n",
    "    if(apple_location > M_list[1]):\n",
    "        x = apple_location - M_list[1]\n",
    "        moving = moving + x\n",
    "        M_list[0] = M_list[0] + x\n",
    "        M_list[1] = M_list[1] + x\n",
    "    elif(apple_location < M_list[0]):\n",
    "        x = M_list[0]- apple_location\n",
    "        moving = moving + x\n",
    "        M_list[0] = M_list[0] - x\n",
    "        M_list[1] = M_list[1] - x"
   ]
  },
  {
   "cell_type": "code",
   "execution_count": 21,
   "metadata": {},
   "outputs": [
    {
     "name": "stdout",
     "output_type": "stream",
     "text": [
      "6\n"
     ]
    }
   ],
   "source": [
    "print(moving)"
   ]
  }
 ],
 "metadata": {
  "kernelspec": {
   "display_name": "Python 3",
   "language": "python",
   "name": "python3"
  },
  "language_info": {
   "codemirror_mode": {
    "name": "ipython",
    "version": 3
   },
   "file_extension": ".py",
   "mimetype": "text/x-python",
   "name": "python",
   "nbconvert_exporter": "python",
   "pygments_lexer": "ipython3",
   "version": "3.7.3"
  }
 },
 "nbformat": 4,
 "nbformat_minor": 2
}
