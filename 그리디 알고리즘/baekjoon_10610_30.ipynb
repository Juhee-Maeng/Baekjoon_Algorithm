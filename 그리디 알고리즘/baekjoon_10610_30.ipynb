{
 "cells": [
  {
   "cell_type": "markdown",
   "metadata": {},
   "source": [
    "# baekjoon algorithm\n",
    "\n",
    "## 10610번 / 30\n",
    "\n",
    "### 출처 : https://www.acmicpc.net/problem/10610"
   ]
  },
  {
   "cell_type": "code",
   "execution_count": 1,
   "metadata": {},
   "outputs": [
    {
     "name": "stdout",
     "output_type": "stream",
     "text": [
      "102\n"
     ]
    }
   ],
   "source": [
    "N = [int(i) for i in input()]"
   ]
  },
  {
   "cell_type": "code",
   "execution_count": 2,
   "metadata": {},
   "outputs": [
    {
     "name": "stdout",
     "output_type": "stream",
     "text": [
      "210\n"
     ]
    }
   ],
   "source": [
    "# 30의 배수 : 3의 배수이면서, 일의 자리가 0인 수\n",
    "# 3의 배수 : 각 자리 숫자의 합이 3의 배수인 수\n",
    "sum_N = sum(N)\n",
    "\n",
    "if(0 in N and sum_N%3==0 and sum_N!=0):\n",
    "    N.sort(reverse=True)\n",
    "    #리스트의 item들을 join해서 string으로 만든다.\n",
    "    answer = ''.join([str(j) for j in N])\n",
    "    print(answer)\n",
    "else:\n",
    "    print(-1)"
   ]
  }
 ],
 "metadata": {
  "kernelspec": {
   "display_name": "Python 3",
   "language": "python",
   "name": "python3"
  },
  "language_info": {
   "codemirror_mode": {
    "name": "ipython",
    "version": 3
   },
   "file_extension": ".py",
   "mimetype": "text/x-python",
   "name": "python",
   "nbconvert_exporter": "python",
   "pygments_lexer": "ipython3",
   "version": "3.7.3"
  }
 },
 "nbformat": 4,
 "nbformat_minor": 2
}
