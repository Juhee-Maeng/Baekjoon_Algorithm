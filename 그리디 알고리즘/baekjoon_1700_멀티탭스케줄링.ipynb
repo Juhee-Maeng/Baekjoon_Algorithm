{
 "cells": [
  {
   "cell_type": "markdown",
   "metadata": {},
   "source": [
    "# baekjoon algorithm\n",
    "\n",
    "## 문제 번호 : 1700번\n",
    "\n",
    "## 제목 : 멀티탭 스케줄링\n",
    "\n",
    "### 출처 : https://www.acmicpc.net/problem/1700"
   ]
  },
  {
   "cell_type": "code",
   "execution_count": null,
   "metadata": {},
   "outputs": [],
   "source": [
    "import sys"
   ]
  },
  {
   "cell_type": "code",
   "execution_count": 8,
   "metadata": {},
   "outputs": [
    {
     "name": "stdout",
     "output_type": "stream",
     "text": [
      "2 7\n"
     ]
    }
   ],
   "source": [
    "# N ; 멀티탭에 최대 몇개를 꽂을 수 있는가?\n",
    "N = int(input().split()[0])"
   ]
  },
  {
   "cell_type": "code",
   "execution_count": 13,
   "metadata": {},
   "outputs": [
    {
     "name": "stdout",
     "output_type": "stream",
     "text": [
      "2 3 2 3 1 2 7\n"
     ]
    }
   ],
   "source": [
    "# 멀티탭에 어떤 순서로 꽂아야 하는가?\n",
    "plug = list(map(int, sys.stdin.readline().split()))"
   ]
  },
  {
   "cell_type": "code",
   "execution_count": 14,
   "metadata": {},
   "outputs": [],
   "source": [
    "# current : 현재 멀티탭에 어떤 플러그가 존재하는가?(리스트)\n",
    "current = []\n",
    "\n",
    "#멀티탭에 아무것도 꽂혀 있지 않았을 때, 초기설정단계!\n",
    "while(1):\n",
    "    #바로 다음에 사용하고자 하는 플러그가 이미 꽂혀 있다면 굳이 멀티탭을 건들 필요가 없다.\n",
    "    if(plug[0] in current):\n",
    "        del plug[0]\n",
    "        continue\n",
    "    #바로 다음에 사용하고자 하는 플러그가 멀티탭에 꽂혀 있지 않은 경우\n",
    "    else:\n",
    "        current.append(plug[0])\n",
    "        del plug[0]\n",
    "        if(len(current)==N):\n",
    "            break"
   ]
  },
  {
   "cell_type": "code",
   "execution_count": 17,
   "metadata": {},
   "outputs": [],
   "source": [
    "n = len(plug)\n",
    "cnt = 0\n",
    "for i in range(n):\n",
    "    #초기 설정 이후, 다음 사용하려는 제품이 이미 꽂혀 있는 경우\n",
    "    if(plug[0] in current):\n",
    "        del plug[0]\n",
    "        continue\n",
    "    else:\n",
    "        A = []\n",
    "        for j in range(N):\n",
    "            #멀티탭에 꽂혀 있는 각각의 플러그들에 대해서 미래에 다시 사용할 일이 있는지 여부와\n",
    "            #사용한다면 몇번 째에 사용하게 될 것인지에 대한 것을 A리스트에 저장\n",
    "            if(current[j] in plug):\n",
    "                A.append(plug.index(current[j]))\n",
    "            else:\n",
    "                #앞으로 더 사용할 일이 없다면 -1을 A 리스트에 추가\n",
    "                #즉, 새로운 플러그를 사용할 일이 생겼을때 -1값을 갖는 플러그를 뽑으면 좋다.\n",
    "                A.append(-1)\n",
    "        if(-1 in A):\n",
    "            del current[A.index(-1)]\n",
    "            current.append(plug[0])\n",
    "            del plug[0]\n",
    "            #플러그가 교체되었으니 cnt +1\n",
    "            cnt += 1\n",
    "        else:\n",
    "            # A리스트 안에 -1값이 존재하지 않는다면\n",
    "            # A리스트 안의 값들중 가장 큰 값을 고른다\n",
    "            # 더 나중에 사용하게 될 플러그를 뽑는게 더 효율적이라고 생각했기 때문\n",
    "            del current[A.index(max(A))]\n",
    "            current.append(plug[0])\n",
    "            del plug[0]\n",
    "            #플러그가 교체되었으므로 cnt + 1\n",
    "            cnt += 1"
   ]
  },
  {
   "cell_type": "code",
   "execution_count": 18,
   "metadata": {},
   "outputs": [
    {
     "name": "stdout",
     "output_type": "stream",
     "text": [
      "2\n"
     ]
    }
   ],
   "source": [
    "print(cnt)"
   ]
  }
 ],
 "metadata": {
  "kernelspec": {
   "display_name": "Python 3",
   "language": "python",
   "name": "python3"
  },
  "language_info": {
   "codemirror_mode": {
    "name": "ipython",
    "version": 3
   },
   "file_extension": ".py",
   "mimetype": "text/x-python",
   "name": "python",
   "nbconvert_exporter": "python",
   "pygments_lexer": "ipython3",
   "version": "3.7.3"
  }
 },
 "nbformat": 4,
 "nbformat_minor": 2
}
