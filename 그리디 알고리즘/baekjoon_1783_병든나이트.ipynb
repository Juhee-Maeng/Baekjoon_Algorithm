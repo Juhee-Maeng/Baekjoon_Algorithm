{
 "cells": [
  {
   "cell_type": "markdown",
   "metadata": {},
   "source": [
    "# baekjoon algorithm\n",
    "\n",
    "## 문제 번호 : 1783번\n",
    "\n",
    "## 제목 : 병든 나이트\n",
    "\n",
    "### 출처 : https://www.acmicpc.net/problem/1783"
   ]
  },
  {
   "cell_type": "code",
   "execution_count": 1,
   "metadata": {},
   "outputs": [
    {
     "name": "stdout",
     "output_type": "stream",
     "text": [
      "100 50\n"
     ]
    }
   ],
   "source": [
    "import sys\n",
    "\n",
    "# 제출할 때, input()대신 sys.stdin.readline() 사용함\n",
    "N,M = map(int, sys.stdin.readline().split())"
   ]
  },
  {
   "cell_type": "code",
   "execution_count": 2,
   "metadata": {},
   "outputs": [
    {
     "name": "stdout",
     "output_type": "stream",
     "text": [
      "48\n"
     ]
    }
   ],
   "source": [
    "if(N==1):\n",
    "    print(1)\n",
    "if(N==2):\n",
    "    if(1<=M<=2):\n",
    "        print(1)\n",
    "    elif(3<=M<=4):\n",
    "        print(2)\n",
    "    elif(5<=M<=6):\n",
    "        print(3)\n",
    "    else:\n",
    "        print(4)\n",
    "\n",
    "if(3<=N):\n",
    "    if(M==1):\n",
    "        print(1)\n",
    "    if(M==2):\n",
    "        print(2)\n",
    "    if(M==3):\n",
    "        print(3)\n",
    "    if(4<=M<=6):\n",
    "        print(4)\n",
    "    if(7<=M):\n",
    "        move_count = 5 + (M-7)\n",
    "        print(move_count)"
   ]
  }
 ],
 "metadata": {
  "kernelspec": {
   "display_name": "Python 3",
   "language": "python",
   "name": "python3"
  },
  "language_info": {
   "codemirror_mode": {
    "name": "ipython",
    "version": 3
   },
   "file_extension": ".py",
   "mimetype": "text/x-python",
   "name": "python",
   "nbconvert_exporter": "python",
   "pygments_lexer": "ipython3",
   "version": "3.7.3"
  }
 },
 "nbformat": 4,
 "nbformat_minor": 2
}
