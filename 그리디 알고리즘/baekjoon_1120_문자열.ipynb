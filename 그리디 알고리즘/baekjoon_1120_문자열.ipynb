{
 "cells": [
  {
   "cell_type": "markdown",
   "metadata": {},
   "source": [
    "# baekjoon algorithm\n",
    "\n",
    "## 문제 번호 : 1120번\n",
    "\n",
    "## 제목 : 문자열\n",
    "\n",
    "### 출처 : https://www.acmicpc.net/problem/1120"
   ]
  },
  {
   "cell_type": "code",
   "execution_count": 12,
   "metadata": {},
   "outputs": [
    {
     "name": "stdout",
     "output_type": "stream",
     "text": [
      "adaabc aababbc\n"
     ]
    }
   ],
   "source": [
    "AB = input().split()"
   ]
  },
  {
   "cell_type": "code",
   "execution_count": 13,
   "metadata": {},
   "outputs": [],
   "source": [
    "A = AB[0]\n",
    "B = AB[1]\n",
    "\n",
    "len_A = len(A)\n",
    "len_B = len(B)\n",
    "\n",
    "dif_len = len(B) - len(A)"
   ]
  },
  {
   "cell_type": "code",
   "execution_count": 17,
   "metadata": {},
   "outputs": [],
   "source": [
    "dif_count = 0\n",
    "dif_min = 500\n",
    "\n",
    "for j in range(dif_len + 1):\n",
    "    dif_count = 0\n",
    "    for i in range(len_A):\n",
    "        if(A[i]!=B[j+i]):\n",
    "            dif_count += 1\n",
    "    if(dif_min > dif_count):\n",
    "        dif_min = dif_count"
   ]
  },
  {
   "cell_type": "code",
   "execution_count": 18,
   "metadata": {},
   "outputs": [
    {
     "name": "stdout",
     "output_type": "stream",
     "text": [
      "2\n"
     ]
    }
   ],
   "source": [
    "print(dif_min)"
   ]
  }
 ],
 "metadata": {
  "kernelspec": {
   "display_name": "Python 3",
   "language": "python",
   "name": "python3"
  },
  "language_info": {
   "codemirror_mode": {
    "name": "ipython",
    "version": 3
   },
   "file_extension": ".py",
   "mimetype": "text/x-python",
   "name": "python",
   "nbconvert_exporter": "python",
   "pygments_lexer": "ipython3",
   "version": "3.7.3"
  }
 },
 "nbformat": 4,
 "nbformat_minor": 2
}
