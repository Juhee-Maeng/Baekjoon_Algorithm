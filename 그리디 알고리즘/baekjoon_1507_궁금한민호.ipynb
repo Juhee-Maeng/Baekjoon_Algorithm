{
 "cells": [
  {
   "cell_type": "markdown",
   "metadata": {},
   "source": [
    "# baekjoon algorithm\n",
    "\n",
    "## 문제 번호 : 1507번\n",
    "\n",
    "## 제목 : 궁금한 민호\n",
    "\n",
    "### 출처 : https://www.acmicpc.net/problem/1507"
   ]
  },
  {
   "cell_type": "code",
   "execution_count": 1,
   "metadata": {},
   "outputs": [
    {
     "name": "stdout",
     "output_type": "stream",
     "text": [
      "5\n"
     ]
    }
   ],
   "source": [
    "import sys\n",
    "\n",
    "N = int(input())"
   ]
  },
  {
   "cell_type": "code",
   "execution_count": 2,
   "metadata": {},
   "outputs": [
    {
     "name": "stdout",
     "output_type": "stream",
     "text": [
      "0 6 15 2 6\n",
      "6 0 9 8 12\n",
      "15 9 0 16 18\n",
      "2 8 16 0 4\n",
      "6 12 18 4 0\n"
     ]
    }
   ],
   "source": [
    "A = []\n",
    "for i in range(N):\n",
    "    A.append(list(map(int, sys.stdin.readline().split())))"
   ]
  },
  {
   "cell_type": "code",
   "execution_count": 5,
   "metadata": {},
   "outputs": [],
   "source": [
    "line = []\n",
    "ip = 0\n",
    "line_sum = 0\n",
    "for i in range(0,N-1):\n",
    "    for j in range(i+1, N):\n",
    "        x = 10001\n",
    "        for k in range(N):\n",
    "            if(k!=i and k!=j):\n",
    "                y = A[i][k] + A[k][j]\n",
    "                if(x > y):\n",
    "                    x = y\n",
    "        if(A[i][j] < x):\n",
    "            line.append([i,j])\n",
    "            line_sum = line_sum + A[i][j]\n",
    "        elif(A[i][j] > x):\n",
    "            ip = 1\n",
    "    if(ip == 1):\n",
    "        print(-1)\n",
    "        break"
   ]
  },
  {
   "cell_type": "code",
   "execution_count": 6,
   "metadata": {},
   "outputs": [
    {
     "name": "stdout",
     "output_type": "stream",
     "text": [
      "55\n"
     ]
    }
   ],
   "source": [
    "if(ip != 1):\n",
    "    print(line_sum)"
   ]
  }
 ],
 "metadata": {
  "kernelspec": {
   "display_name": "Python 3",
   "language": "python",
   "name": "python3"
  },
  "language_info": {
   "codemirror_mode": {
    "name": "ipython",
    "version": 3
   },
   "file_extension": ".py",
   "mimetype": "text/x-python",
   "name": "python",
   "nbconvert_exporter": "python",
   "pygments_lexer": "ipython3",
   "version": "3.7.3"
  }
 },
 "nbformat": 4,
 "nbformat_minor": 2
}
