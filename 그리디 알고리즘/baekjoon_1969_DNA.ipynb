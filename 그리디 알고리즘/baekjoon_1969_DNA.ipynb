{
 "cells": [
  {
   "cell_type": "markdown",
   "metadata": {},
   "source": [
    "# baekjoon algorithm\n",
    "\n",
    "## 문제 번호 : 1969번\n",
    "\n",
    "## 제목 : DNA\n",
    "\n",
    "### 출처 : https://www.acmicpc.net/problem/1969"
   ]
  },
  {
   "cell_type": "code",
   "execution_count": 1,
   "metadata": {},
   "outputs": [],
   "source": [
    "import sys"
   ]
  },
  {
   "cell_type": "code",
   "execution_count": 2,
   "metadata": {},
   "outputs": [
    {
     "name": "stdout",
     "output_type": "stream",
     "text": [
      "5 8\n"
     ]
    }
   ],
   "source": [
    "# N : DNA수\n",
    "# M : 문자열 길이\n",
    "N,M = map(int,input().split())"
   ]
  },
  {
   "cell_type": "code",
   "execution_count": 3,
   "metadata": {},
   "outputs": [
    {
     "name": "stdout",
     "output_type": "stream",
     "text": [
      "TATGATAC\n",
      "TAAGCTAC\n",
      "AAAGATCC\n",
      "TGAGATAC\n",
      "TAAGATGT\n"
     ]
    }
   ],
   "source": [
    "D = []\n",
    "for i in range(N):\n",
    "    D.append(input())\n",
    "    # (백준에 제출할 땐, 아래처럼)\n",
    "    # D.append(sys.stdin.readline())"
   ]
  },
  {
   "cell_type": "code",
   "execution_count": 4,
   "metadata": {},
   "outputs": [
    {
     "data": {
      "text/plain": [
       "['TATGATAC', 'TAAGCTAC', 'AAAGATCC', 'TGAGATAC', 'TAAGATGT']"
      ]
     },
     "execution_count": 4,
     "metadata": {},
     "output_type": "execute_result"
    }
   ],
   "source": [
    "# D"
   ]
  },
  {
   "cell_type": "code",
   "execution_count": 5,
   "metadata": {},
   "outputs": [],
   "source": [
    "answer = []\n",
    "count = 0\n",
    "\n",
    "for i in range(M):\n",
    "    # D2 = [A,C,G,T]의 출현 빈도수\n",
    "    D2 = [0,0,0,0]\n",
    "    for j in range(N):\n",
    "        x = D[j][i]\n",
    "        if(x =='A'):\n",
    "            D2[0] += 1\n",
    "        elif(x == 'C'):\n",
    "            D2[1] += 1\n",
    "        elif(x == 'G'):\n",
    "            D2[2] += 1\n",
    "        elif(x == 'T'):\n",
    "            D2[3] += 1\n",
    "    \n",
    "    # Hamming Distance의 합이 가장 작은 DNA\n",
    "    a = max(D2)\n",
    "    b = D2.index(a)\n",
    "    if(b == 0):\n",
    "        answer.append('A')\n",
    "    elif(b == 1):\n",
    "        answer.append('C')\n",
    "    elif(b == 2):\n",
    "        answer.append('G')\n",
    "    elif(b == 3):\n",
    "        answer.append('T')\n",
    "    \n",
    "    # Hamming Distance의 합\n",
    "    count += N-a"
   ]
  },
  {
   "cell_type": "code",
   "execution_count": 7,
   "metadata": {},
   "outputs": [
    {
     "name": "stdout",
     "output_type": "stream",
     "text": [
      "TAAGATAC\n",
      "7\n"
     ]
    }
   ],
   "source": [
    "# 정답\n",
    "\n",
    "print(''.join(answer))\n",
    "\n",
    "print(count)"
   ]
  }
 ],
 "metadata": {
  "kernelspec": {
   "display_name": "Python 3",
   "language": "python",
   "name": "python3"
  },
  "language_info": {
   "codemirror_mode": {
    "name": "ipython",
    "version": 3
   },
   "file_extension": ".py",
   "mimetype": "text/x-python",
   "name": "python",
   "nbconvert_exporter": "python",
   "pygments_lexer": "ipython3",
   "version": "3.7.3"
  }
 },
 "nbformat": 4,
 "nbformat_minor": 2
}
