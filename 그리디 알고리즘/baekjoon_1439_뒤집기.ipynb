{
 "cells": [
  {
   "cell_type": "markdown",
   "metadata": {},
   "source": [
    "# baekjoon algorithm\n",
    "\n",
    "## 문제 번호 : 1439번\n",
    "\n",
    "## 제목 : 뒤집기\n",
    "\n",
    "### 출처 : https://www.acmicpc.net/problem/1439"
   ]
  },
  {
   "cell_type": "code",
   "execution_count": 1,
   "metadata": {},
   "outputs": [
    {
     "name": "stdout",
     "output_type": "stream",
     "text": [
      "0001100\n"
     ]
    }
   ],
   "source": [
    "N = input()\n",
    "\n",
    "#list_0 : 연속적인 0들의 모임\n",
    "#list_1 : 연속적인 1들의 모임\n",
    "list_0 = N.split('1')\n",
    "list_1 = N.split('0')"
   ]
  },
  {
   "cell_type": "code",
   "execution_count": 2,
   "metadata": {},
   "outputs": [],
   "source": [
    "while('' in list_0):\n",
    "    list_0.remove('')\n",
    "while('' in list_1):\n",
    "    list_1.remove('')"
   ]
  },
  {
   "cell_type": "code",
   "execution_count": 4,
   "metadata": {},
   "outputs": [
    {
     "name": "stdout",
     "output_type": "stream",
     "text": [
      "1\n"
     ]
    }
   ],
   "source": [
    "if(len(list_0) < len(list_1)):\n",
    "    MinValue = len(list_0)\n",
    "else:\n",
    "    MinValue = len(list_1)\n",
    "print(MinValue)"
   ]
  }
 ],
 "metadata": {
  "kernelspec": {
   "display_name": "Python 3",
   "language": "python",
   "name": "python3"
  },
  "language_info": {
   "codemirror_mode": {
    "name": "ipython",
    "version": 3
   },
   "file_extension": ".py",
   "mimetype": "text/x-python",
   "name": "python",
   "nbconvert_exporter": "python",
   "pygments_lexer": "ipython3",
   "version": "3.7.3"
  }
 },
 "nbformat": 4,
 "nbformat_minor": 2
}
