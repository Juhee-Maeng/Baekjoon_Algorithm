{
 "cells": [
  {
   "cell_type": "markdown",
   "metadata": {},
   "source": [
    "# baekjoon algorithm\n",
    "\n",
    "## 문제 번호 : 1449번\n",
    "\n",
    "## 제목 : 수리공 항승\n",
    "\n",
    "### 출처 : https://www.acmicpc.net/problem/1449"
   ]
  },
  {
   "cell_type": "code",
   "execution_count": 1,
   "metadata": {},
   "outputs": [
    {
     "name": "stdout",
     "output_type": "stream",
     "text": [
      "4 2\n"
     ]
    }
   ],
   "source": [
    "import sys\n",
    "\n",
    "# N : 물이 새는 곳의 개수\n",
    "# L : 테이프 길이\n",
    "N,L = map(int, sys.stdin.readline().split())"
   ]
  },
  {
   "cell_type": "code",
   "execution_count": 2,
   "metadata": {},
   "outputs": [
    {
     "name": "stdout",
     "output_type": "stream",
     "text": [
      "1 2 100 101\n"
     ]
    }
   ],
   "source": [
    "# LC : 물이 새는 곳의 위치\n",
    "LC = list(map(int, input().split()))"
   ]
  },
  {
   "cell_type": "code",
   "execution_count": 3,
   "metadata": {},
   "outputs": [],
   "source": [
    "LC.sort()\n",
    "\n",
    "#물이 새는 곳을 막기 위해 필수적으로 지나야 하는 포인트들의 위치\n",
    "PL = []\n",
    "for p in LC:\n",
    "    PL.append(p-0.5)\n",
    "    PL.append(p+0.5)"
   ]
  },
  {
   "cell_type": "code",
   "execution_count": 4,
   "metadata": {},
   "outputs": [],
   "source": [
    "cnt = 0\n",
    "while(len(PL) > 0):\n",
    "    start = PL[0]\n",
    "    end = start + L\n",
    "    PL = [i for i in PL if end<i]\n",
    "    cnt += 1"
   ]
  },
  {
   "cell_type": "code",
   "execution_count": 5,
   "metadata": {},
   "outputs": [
    {
     "name": "stdout",
     "output_type": "stream",
     "text": [
      "2\n"
     ]
    }
   ],
   "source": [
    "print(cnt)"
   ]
  }
 ],
 "metadata": {
  "kernelspec": {
   "display_name": "Python 3",
   "language": "python",
   "name": "python3"
  },
  "language_info": {
   "codemirror_mode": {
    "name": "ipython",
    "version": 3
   },
   "file_extension": ".py",
   "mimetype": "text/x-python",
   "name": "python",
   "nbconvert_exporter": "python",
   "pygments_lexer": "ipython3",
   "version": "3.7.3"
  }
 },
 "nbformat": 4,
 "nbformat_minor": 2
}
