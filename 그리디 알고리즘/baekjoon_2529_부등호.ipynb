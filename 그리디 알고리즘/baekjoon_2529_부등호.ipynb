{
 "cells": [
  {
   "cell_type": "markdown",
   "metadata": {},
   "source": [
    "# baekjoon algorithm\n",
    "\n",
    "## 문제 번호 : 2529번\n",
    "\n",
    "## 제목 : 부등호\n",
    "\n",
    "### 출처 : https://www.acmicpc.net/problem/2529"
   ]
  },
  {
   "cell_type": "code",
   "execution_count": null,
   "metadata": {},
   "outputs": [],
   "source": [
    "import sys"
   ]
  },
  {
   "cell_type": "code",
   "execution_count": 4,
   "metadata": {},
   "outputs": [
    {
     "name": "stdout",
     "output_type": "stream",
     "text": [
      "2\n",
      "< >\n"
     ]
    }
   ],
   "source": [
    "K = int(input())\n",
    "# 밑에 input() 대신 sys.stdin.readline()을 해줬더니 시간이 줄어들었다.\n",
    "Iq = sys.stdin.readline().split()\n",
    "\n",
    "min_N = []\n",
    "max_N = []\n",
    "\n",
    "for i in range(K+1):\n",
    "    min_N.append(i)\n",
    "    max_N.append(9-i)"
   ]
  },
  {
   "cell_type": "code",
   "execution_count": 5,
   "metadata": {},
   "outputs": [],
   "source": [
    "a = []\n",
    "b = []"
   ]
  },
  {
   "cell_type": "code",
   "execution_count": 6,
   "metadata": {},
   "outputs": [],
   "source": [
    "# a 구하기\n",
    "i = 0\n",
    "while(1):\n",
    "    count = 0\n",
    "    if(i == K):\n",
    "        break\n",
    "    if(Iq[i] == '<'):\n",
    "        a.append(min_N[0])\n",
    "        del min_N[0]\n",
    "        i += 1\n",
    "        if(i == K):\n",
    "            break\n",
    "    else:\n",
    "        count = 1\n",
    "        while(1):\n",
    "            i += 1\n",
    "            if(i == K):\n",
    "                break\n",
    "            if(Iq[i] == '<'):\n",
    "                break\n",
    "            else:\n",
    "                count += 1\n",
    "    if(count != 0):\n",
    "        for j in range(count):\n",
    "            a.append(min_N[count-j])\n",
    "            del min_N[count-j]\n",
    "            \n",
    "if(len(min_N)==1):\n",
    "    a.append(min_N[0])\n",
    "    \n",
    "# a = [0, 2, 1]"
   ]
  },
  {
   "cell_type": "code",
   "execution_count": 8,
   "metadata": {},
   "outputs": [],
   "source": [
    "# b 구하기\n",
    "i = 0\n",
    "while(1):\n",
    "    count = 0\n",
    "    if(i == K):\n",
    "        break\n",
    "    if(Iq[i] == '>'):\n",
    "        b.append(max_N[0])\n",
    "        del max_N[0]\n",
    "        i += 1\n",
    "        if(i == K):\n",
    "            break\n",
    "    else:\n",
    "        count = 1\n",
    "        while(1):\n",
    "            i += 1\n",
    "            if(i == K):\n",
    "                break\n",
    "            if(Iq[i] == '>'):\n",
    "                break\n",
    "            else:\n",
    "                count += 1\n",
    "    if(count != 0):\n",
    "        for j in range(count):\n",
    "            b.append(max_N[count-j])\n",
    "            del max_N[count-j]\n",
    "            \n",
    "if(len(max_N)==1):\n",
    "    b.append(max_N[0])\n",
    "\n",
    "# b = [8, 9, 7]"
   ]
  },
  {
   "cell_type": "code",
   "execution_count": 10,
   "metadata": {},
   "outputs": [
    {
     "name": "stdout",
     "output_type": "stream",
     "text": [
      "897\n",
      "021"
     ]
    }
   ],
   "source": [
    "for i in b:\n",
    "    print(i, end=\"\")\n",
    "\n",
    "print()\n",
    "\n",
    "for i in a:\n",
    "    print(i, end=\"\")"
   ]
  }
 ],
 "metadata": {
  "kernelspec": {
   "display_name": "Python 3",
   "language": "python",
   "name": "python3"
  },
  "language_info": {
   "codemirror_mode": {
    "name": "ipython",
    "version": 3
   },
   "file_extension": ".py",
   "mimetype": "text/x-python",
   "name": "python",
   "nbconvert_exporter": "python",
   "pygments_lexer": "ipython3",
   "version": "3.7.3"
  }
 },
 "nbformat": 4,
 "nbformat_minor": 2
}
