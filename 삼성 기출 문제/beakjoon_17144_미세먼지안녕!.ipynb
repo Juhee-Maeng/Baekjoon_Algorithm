{
 "cells": [
  {
   "cell_type": "markdown",
   "metadata": {},
   "source": [
    "# baekjoon algorithm\n",
    "\n",
    "## 문제 번호 : 17144번\n",
    "\n",
    "## 제목 : 미세먼지 안녕!\n",
    "\n",
    "### 출처 : https://www.acmicpc.net/problem/17144"
   ]
  },
  {
   "cell_type": "code",
   "execution_count": 1,
   "metadata": {},
   "outputs": [
    {
     "name": "stdout",
     "output_type": "stream",
     "text": [
      "7 8 1\n",
      "0 0 0 0 0 0 0 9\n",
      "0 0 0 0 3 0 0 8\n",
      "-1 0 5 0 0 0 22 0\n",
      "-1 8 0 0 0 0 0 0\n",
      "0 0 0 0 0 10 43 0\n",
      "0 0 5 0 15 0 0 0\n",
      "0 0 40 0 0 0 20 0\n"
     ]
    }
   ],
   "source": [
    "import copy\n",
    "R, C, T = map(int, input().split())\n",
    "room = []\n",
    "for i in range(R):\n",
    "    room.append(list(int(j) for j in input().split()))"
   ]
  },
  {
   "cell_type": "code",
   "execution_count": 8,
   "metadata": {},
   "outputs": [],
   "source": [
    "#공기 청정기 위치\n",
    "air = []\n",
    "for i in range(R):\n",
    "    if(room[i][0]==-1):\n",
    "        air.append([i,0])"
   ]
  },
  {
   "cell_type": "code",
   "execution_count": 9,
   "metadata": {},
   "outputs": [],
   "source": [
    "# 미세먼지 확산\n",
    "def spread(room):\n",
    "    room2 = copy.deepcopy(room)\n",
    "    dx = [0,1,0,-1]\n",
    "    dy = [1,0,-1,0]\n",
    "    for i in range(R):\n",
    "        for j in range(C):\n",
    "            #미세먼지 발견\n",
    "            if(room[i][j]>0):\n",
    "                # 4방향으로 퍼뜨리기~\n",
    "                for k in range(4):\n",
    "                    new_x = i + dx[k]\n",
    "                    new_y = j + dy[k]\n",
    "                    if(0<=new_x and new_x<R and 0<=new_y and new_y<C):\n",
    "                        if(room[new_x][new_y] != -1):\n",
    "                            number = room[i][j]//5\n",
    "                            room2[new_x][new_y] += number\n",
    "                            room2[i][j] -= number\n",
    "    return room2"
   ]
  },
  {
   "cell_type": "code",
   "execution_count": 10,
   "metadata": {},
   "outputs": [],
   "source": [
    "def clock(graph, x):\n",
    "    #왼쪽\n",
    "    for i in range(x,R-1):\n",
    "        if(graph[i][0]==-1):\n",
    "            graph[i+1][0] = 0\n",
    "        else:\n",
    "            graph[i][0] = graph[i+1][0]\n",
    "    #아래쪽\n",
    "    graph[R-1].pop(0)\n",
    "    graph[R-1].append(graph[R-2][C-1])\n",
    "    #오른쪽\n",
    "    for i in range(R-2, air[1][0], -1):\n",
    "        graph[i][C-1] = graph[i-1][C-1]\n",
    "    #위쪽\n",
    "    graph[x].pop()\n",
    "    graph[x].insert(1,0)"
   ]
  },
  {
   "cell_type": "code",
   "execution_count": 11,
   "metadata": {},
   "outputs": [],
   "source": [
    "def counterclock(graph,x):\n",
    "    #왼쪽\n",
    "    for i in range(x,0,-1):\n",
    "        if(graph[i][0]==-1):\n",
    "            graph[i-1][0] = 0\n",
    "        else:\n",
    "            graph[i][0] = graph[i-1][0]\n",
    "    #위쪽\n",
    "    graph[0].pop(0)\n",
    "    graph[0].append(graph[1][C-1])\n",
    "    #오른쪽\n",
    "    for i in range(1,x):\n",
    "        graph[i][C-1] = graph[i+1][C-1]\n",
    "    #아래쪽\n",
    "    graph[x].pop()\n",
    "    graph[x].insert(1,0)"
   ]
  },
  {
   "cell_type": "code",
   "execution_count": 12,
   "metadata": {},
   "outputs": [],
   "source": [
    "for i in range(T):\n",
    "    room = spread(room)\n",
    "    counterclock(room, air[0][0])\n",
    "    clock(room, air[1][0])"
   ]
  },
  {
   "cell_type": "code",
   "execution_count": 13,
   "metadata": {},
   "outputs": [
    {
     "name": "stdout",
     "output_type": "stream",
     "text": [
      "188\n"
     ]
    }
   ],
   "source": [
    "sumValue = 0\n",
    "for i in range(R):\n",
    "    for j in range(C):\n",
    "        if(room[i][j]>0):\n",
    "            sumValue += room[i][j]\n",
    "print(sumValue)"
   ]
  }
 ],
 "metadata": {
  "kernelspec": {
   "display_name": "Python 3",
   "language": "python",
   "name": "python3"
  },
  "language_info": {
   "codemirror_mode": {
    "name": "ipython",
    "version": 3
   },
   "file_extension": ".py",
   "mimetype": "text/x-python",
   "name": "python",
   "nbconvert_exporter": "python",
   "pygments_lexer": "ipython3",
   "version": "3.7.3"
  }
 },
 "nbformat": 4,
 "nbformat_minor": 2
}
