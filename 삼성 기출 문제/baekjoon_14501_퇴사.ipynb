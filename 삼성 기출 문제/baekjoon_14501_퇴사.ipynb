{
 "cells": [
  {
   "cell_type": "markdown",
   "metadata": {},
   "source": [
    "# baekjoon algorithm\n",
    "\n",
    "## 문제 번호 : 14501번\n",
    "\n",
    "## 제목 : 퇴사\n",
    "\n",
    "### 출처 : https://www.acmicpc.net/problem/14501"
   ]
  },
  {
   "cell_type": "code",
   "execution_count": 1,
   "metadata": {},
   "outputs": [
    {
     "name": "stdout",
     "output_type": "stream",
     "text": [
      "7\n",
      "3 10\n",
      "5 20\n",
      "1 10\n",
      "1 20\n",
      "2 15\n",
      "4 40\n",
      "2 200\n"
     ]
    }
   ],
   "source": [
    "# shcedule 딕셔너리에 각 날짜별 시간과, 금액에 대한 정보 입력\n",
    "N = int(input())\n",
    "schedule = {}\n",
    "for i in range(N):\n",
    "    t,p = map(int, input().split())\n",
    "    schedule[i+1] = [t,p]"
   ]
  },
  {
   "cell_type": "code",
   "execution_count": 2,
   "metadata": {},
   "outputs": [
    {
     "data": {
      "text/plain": [
       "{1: [3, 10],\n",
       " 2: [5, 20],\n",
       " 3: [1, 10],\n",
       " 4: [1, 20],\n",
       " 5: [2, 15],\n",
       " 6: [4, 40],\n",
       " 7: [2, 200]}"
      ]
     },
     "execution_count": 2,
     "metadata": {},
     "output_type": "execute_result"
    }
   ],
   "source": [
    "# schedule"
   ]
  },
  {
   "cell_type": "code",
   "execution_count": null,
   "metadata": {},
   "outputs": [],
   "source": [
    "\"\"\"\n",
    "조건\n",
    "1. 내가 일할 수 있는 날짜에, 1일 걸리는 상담이 들어왔다 -> 무조건 한다.\n",
    "2. deadline = 0 이면, 현재 일정이 없으므로 일정을 잡는 것이 가능하다.\n",
    "3. 현재날짜 + Ti > N+1 일 경우, 그 일을 하는 것이 불가능하다.\n",
    "\"\"\""
   ]
  },
  {
   "cell_type": "code",
   "execution_count": 4,
   "metadata": {},
   "outputs": [],
   "source": [
    "path = []\n",
    "def dfs(graph, today, deadline=0, visited=[]):\n",
    "    if(deadline!=0):\n",
    "        deadline = deadline - 1\n",
    "    if(deadline == 0):\n",
    "        #오늘이 은퇴일이면 난 더이상 일 못해\n",
    "        if(today == N+1):\n",
    "            path.append(visited)\n",
    "        #오늘은 일하는게 가능한 날이야! 따로 맡은 일도 없어\n",
    "        else:\n",
    "            #1일짜리 일은 무조건 해야돼\n",
    "            if(graph[today][0]==1):\n",
    "                visited = visited + [graph[today][1]]\n",
    "                dfs(graph, today+1, 1, visited)\n",
    "            else:\n",
    "                #만약 이 일을 맡는다면, 은퇴일을 넘어서게 될거야\n",
    "                #다음 날로 넘겨야돼\n",
    "                if(today + graph[today][0] > N+1):\n",
    "                    dfs(graph, today+1, 0, visited)\n",
    "                #이 일을 맡거나, 아님 그냥 넘기거나\n",
    "                #맡아도 되긴 한데, 효율성 낮은 일일 수도 있으니까 원하면 거르는거\n",
    "                else:\n",
    "                    for i in [0,1]:\n",
    "                        if(i==0):\n",
    "                            dfs(graph, today+1, 0, visited)\n",
    "                        else:\n",
    "                            visited = visited + [graph[today][1]]\n",
    "                            dfs(graph, today+1, graph[today][0], visited)\n",
    "    else:\n",
    "         dfs(graph, today+1, deadline, visited)"
   ]
  },
  {
   "cell_type": "code",
   "execution_count": 7,
   "metadata": {},
   "outputs": [],
   "source": [
    "dfs(schedule, 1, 0, [])"
   ]
  },
  {
   "cell_type": "code",
   "execution_count": 8,
   "metadata": {},
   "outputs": [
    {
     "data": {
      "text/plain": [
       "[[10, 20],\n",
       " [10, 20, 15],\n",
       " [20],\n",
       " [10, 20],\n",
       " [10, 20, 15],\n",
       " [10, 20],\n",
       " [10, 20, 15],\n",
       " [20],\n",
       " [10, 20],\n",
       " [10, 20, 15],\n",
       " [10, 20],\n",
       " [10, 20, 15],\n",
       " [20],\n",
       " [10, 20],\n",
       " [10, 20, 15]]"
      ]
     },
     "execution_count": 8,
     "metadata": {},
     "output_type": "execute_result"
    }
   ],
   "source": [
    "# path"
   ]
  },
  {
   "cell_type": "code",
   "execution_count": 9,
   "metadata": {},
   "outputs": [
    {
     "name": "stdout",
     "output_type": "stream",
     "text": [
      "45\n"
     ]
    }
   ],
   "source": [
    "maxValue = 0\n",
    "for i in path:\n",
    "    maxValue = max(maxValue, sum(i))\n",
    "\n",
    "print(maxValue)"
   ]
  }
 ],
 "metadata": {
  "kernelspec": {
   "display_name": "Python 3",
   "language": "python",
   "name": "python3"
  },
  "language_info": {
   "codemirror_mode": {
    "name": "ipython",
    "version": 3
   },
   "file_extension": ".py",
   "mimetype": "text/x-python",
   "name": "python",
   "nbconvert_exporter": "python",
   "pygments_lexer": "ipython3",
   "version": "3.7.3"
  }
 },
 "nbformat": 4,
 "nbformat_minor": 2
}
