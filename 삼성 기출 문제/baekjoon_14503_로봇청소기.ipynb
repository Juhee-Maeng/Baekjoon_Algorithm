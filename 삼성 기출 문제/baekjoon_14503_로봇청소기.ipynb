{
 "cells": [
  {
   "cell_type": "markdown",
   "metadata": {},
   "source": [
    "# baekjoon algorithm\n",
    "\n",
    "## 문제 번호 : 14503번\n",
    "\n",
    "## 제목 : 로봇 청소기\n",
    "\n",
    "### 출처 : https://www.acmicpc.net/problem/14503"
   ]
  },
  {
   "cell_type": "code",
   "execution_count": 4,
   "metadata": {},
   "outputs": [],
   "source": [
    "import sys\n",
    "sys.setrecursionlimit(10**8)"
   ]
  },
  {
   "cell_type": "code",
   "execution_count": 5,
   "metadata": {},
   "outputs": [
    {
     "name": "stdout",
     "output_type": "stream",
     "text": [
      "11 10\n",
      "7 4 0\n"
     ]
    }
   ],
   "source": [
    "N,M = map(int, input().split())\n",
    "r,c,k = map(int, input().split())"
   ]
  },
  {
   "cell_type": "code",
   "execution_count": 7,
   "metadata": {},
   "outputs": [
    {
     "name": "stdout",
     "output_type": "stream",
     "text": [
      "1 1 1 1 1 1 1 1 1 1\n",
      "1 0 0 0 0 0 0 0 0 1\n",
      "1 0 0 0 1 1 1 1 0 1\n",
      "1 0 0 1 1 0 0 0 0 1\n",
      "1 0 1 1 0 0 0 0 0 1\n",
      "1 0 0 0 0 0 0 0 0 1\n",
      "1 0 0 0 0 0 0 1 0 1\n",
      "1 0 0 0 0 0 1 1 0 1\n",
      "1 0 0 0 0 0 1 1 0 1\n",
      "1 0 0 0 0 0 0 0 0 1\n",
      "1 1 1 1 1 1 1 1 1 1\n"
     ]
    }
   ],
   "source": [
    "room = []\n",
    "for i in range(N):\n",
    "    room.append(list(map(int, input().split())))\n",
    "\n",
    "#0북, 1동, 2남, 3서\n",
    "Direc = {0:[-1,0],1:[0,1],2:[1,0],3:[0,-1]}\n",
    "count = 0"
   ]
  },
  {
   "cell_type": "code",
   "execution_count": 9,
   "metadata": {},
   "outputs": [],
   "source": [
    "def CleanRoom(graph, x, y, D):\n",
    "    global count\n",
    "    #현재 위치 청소\n",
    "    if(graph[x][y]==0):\n",
    "        count += 1\n",
    "        graph[x][y] = -1\n",
    "    #새로운 방향, 그 방향으로의 x,y값\n",
    "    new_D = (D-1)%4\n",
    "    new_x = x + Direc[new_D][0]\n",
    "    new_y = y + Direc[new_D][1]\n",
    "    #왼쪽 방향에 아직 청소하지 않은 공간이 있다면\n",
    "    if(graph[new_x][new_y]==0):\n",
    "        CleanRoom(graph, new_x, new_y, new_D)\n",
    "    else:\n",
    "        #네 방향 모두 청소가 이미 되어 있거나 벽이다.\n",
    "        if(graph[x+1][y]!=0 and graph[x-1][y]!=0 and graph[x][y+1]!=0 and graph[x][y-1]!=0):\n",
    "            #뒤에 벽이 있다면 종료\n",
    "            new_x = x - Direc[D][0]\n",
    "            new_y = y - Direc[D][1]\n",
    "            if(graph[new_x][new_y]==1):\n",
    "                return\n",
    "            #그렇지 않으면 바라보는 방향 유지한채로 한칸 후진\n",
    "            else:\n",
    "                CleanRoom(graph, new_x, new_y, D)\n",
    "        else:\n",
    "            CleanRoom(graph, x, y, new_D)"
   ]
  },
  {
   "cell_type": "code",
   "execution_count": 10,
   "metadata": {},
   "outputs": [],
   "source": [
    "CleanRoom(room, r, c, k)"
   ]
  },
  {
   "cell_type": "code",
   "execution_count": 11,
   "metadata": {},
   "outputs": [
    {
     "data": {
      "text/plain": [
       "[[1, 1, 1, 1, 1, 1, 1, 1, 1, 1],\n",
       " [1, -1, -1, -1, -1, -1, -1, -1, -1, 1],\n",
       " [1, -1, -1, -1, 1, 1, 1, 1, -1, 1],\n",
       " [1, -1, -1, 1, 1, -1, -1, -1, -1, 1],\n",
       " [1, -1, 1, 1, -1, -1, -1, -1, 0, 1],\n",
       " [1, -1, -1, -1, -1, -1, -1, -1, -1, 1],\n",
       " [1, -1, -1, -1, -1, -1, 0, 1, -1, 1],\n",
       " [1, -1, -1, -1, -1, -1, 1, 1, -1, 1],\n",
       " [1, -1, -1, -1, -1, -1, 1, 1, -1, 1],\n",
       " [1, -1, -1, -1, -1, -1, -1, -1, -1, 1],\n",
       " [1, 1, 1, 1, 1, 1, 1, 1, 1, 1]]"
      ]
     },
     "execution_count": 11,
     "metadata": {},
     "output_type": "execute_result"
    }
   ],
   "source": [
    "# room"
   ]
  },
  {
   "cell_type": "code",
   "execution_count": 12,
   "metadata": {},
   "outputs": [
    {
     "name": "stdout",
     "output_type": "stream",
     "text": [
      "57\n"
     ]
    }
   ],
   "source": [
    "print(count)"
   ]
  }
 ],
 "metadata": {
  "kernelspec": {
   "display_name": "Python 3",
   "language": "python",
   "name": "python3"
  },
  "language_info": {
   "codemirror_mode": {
    "name": "ipython",
    "version": 3
   },
   "file_extension": ".py",
   "mimetype": "text/x-python",
   "name": "python",
   "nbconvert_exporter": "python",
   "pygments_lexer": "ipython3",
   "version": "3.7.3"
  }
 },
 "nbformat": 4,
 "nbformat_minor": 2
}
