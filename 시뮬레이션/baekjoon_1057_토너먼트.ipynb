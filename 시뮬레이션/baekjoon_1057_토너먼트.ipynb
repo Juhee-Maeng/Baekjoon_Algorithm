{
 "cells": [
  {
   "cell_type": "markdown",
   "metadata": {},
   "source": [
    "## baekjoon algorithm\n",
    "\n",
    "### 문제 번호 : 1057번\n",
    "\n",
    "### 제목 : 토너먼트\n",
    "\n",
    "#### 출처 : https://www.acmicpc.net/problem/1057\n"
   ]
  },
  {
   "cell_type": "markdown",
   "metadata": {},
   "source": [
    "***  \n",
    "함수"
   ]
  },
  {
   "cell_type": "code",
   "execution_count": 1,
   "metadata": {},
   "outputs": [],
   "source": [
    "#a와 b가 서로 승부하는가? 0(아니오) or 1(예) 출력\n",
    "def fight(a,b):\n",
    "    if(a%2==0 and b%2!=0 and a-b==1):\n",
    "        return 1\n",
    "    elif(b%2==0 and a%2!=0 and b-a==1):\n",
    "        return 1\n",
    "    else:\n",
    "        return 0"
   ]
  },
  {
   "cell_type": "markdown",
   "metadata": {},
   "source": [
    "***  \n",
    "Main"
   ]
  },
  {
   "cell_type": "code",
   "execution_count": 2,
   "metadata": {},
   "outputs": [
    {
     "name": "stdout",
     "output_type": "stream",
     "text": [
      "16 8 9\n"
     ]
    }
   ],
   "source": [
    "# 입력값\n",
    "total, kim, im = map(int, input().split())"
   ]
  },
  {
   "cell_type": "code",
   "execution_count": 3,
   "metadata": {},
   "outputs": [],
   "source": [
    "cnt = 0\n",
    "while(1):\n",
    "    cnt += 1\n",
    "    if(fight(kim, im)==1):\n",
    "        break\n",
    "    else:\n",
    "        if(kim%2==0):\n",
    "            kim = kim//2\n",
    "        else:\n",
    "            kim = kim//2 + 1\n",
    "        if(im%2==0):\n",
    "            im = im//2\n",
    "        else:\n",
    "            im = im//2 + 1"
   ]
  },
  {
   "cell_type": "code",
   "execution_count": 4,
   "metadata": {},
   "outputs": [
    {
     "name": "stdout",
     "output_type": "stream",
     "text": [
      "4\n"
     ]
    }
   ],
   "source": [
    "print(cnt)"
   ]
  },
  {
   "cell_type": "markdown",
   "metadata": {},
   "source": [
    "김지민과 임한수가 대결하는 라운드 번호가 출력된다"
   ]
  }
 ],
 "metadata": {
  "kernelspec": {
   "display_name": "Python 3",
   "language": "python",
   "name": "python3"
  },
  "language_info": {
   "codemirror_mode": {
    "name": "ipython",
    "version": 3
   },
   "file_extension": ".py",
   "mimetype": "text/x-python",
   "name": "python",
   "nbconvert_exporter": "python",
   "pygments_lexer": "ipython3",
   "version": "3.7.3"
  }
 },
 "nbformat": 4,
 "nbformat_minor": 2
}
