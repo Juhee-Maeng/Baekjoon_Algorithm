{
 "cells": [
  {
   "cell_type": "markdown",
   "metadata": {},
   "source": [
    "# baekjoon algorithm\n",
    "\n",
    "## 문제 번호 : 2455번\n",
    "\n",
    "## 제목 : 지능형 기차\n",
    "\n",
    "### 출처 : https://www.acmicpc.net/problem/2455"
   ]
  },
  {
   "cell_type": "code",
   "execution_count": 3,
   "metadata": {},
   "outputs": [
    {
     "name": "stdout",
     "output_type": "stream",
     "text": [
      "0 32\n",
      "3 13\n",
      "28 25\n",
      "39 0\n",
      "42\n"
     ]
    }
   ],
   "source": [
    "person = 0 #기차 안에 있는 사람 수\n",
    "MP = 0 # 기차 안에 있는 사람이 최대가 될때의 숫자\n",
    "\n",
    "for i in range(4):\n",
    "    Out, In = map(int, input().split())\n",
    "    person = person + (In - Out)\n",
    "    if(MP < max(MP, person)):\n",
    "        MP = max(MP, person)\n",
    "\n",
    "print(MP)"
   ]
  }
 ],
 "metadata": {
  "kernelspec": {
   "display_name": "Python 3",
   "language": "python",
   "name": "python3"
  },
  "language_info": {
   "codemirror_mode": {
    "name": "ipython",
    "version": 3
   },
   "file_extension": ".py",
   "mimetype": "text/x-python",
   "name": "python",
   "nbconvert_exporter": "python",
   "pygments_lexer": "ipython3",
   "version": "3.7.3"
  }
 },
 "nbformat": 4,
 "nbformat_minor": 2
}
