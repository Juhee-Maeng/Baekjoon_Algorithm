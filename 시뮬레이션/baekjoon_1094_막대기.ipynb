{
 "cells": [
  {
   "cell_type": "markdown",
   "metadata": {},
   "source": [
    "# baekjoon algorithm\n",
    "\n",
    "## 문제 번호 : 1094번\n",
    "\n",
    "## 제목 : 막대기\n",
    "\n",
    "### 출처 : https://www.acmicpc.net/problem/1094"
   ]
  },
  {
   "cell_type": "code",
   "execution_count": 1,
   "metadata": {},
   "outputs": [],
   "source": [
    "# 처음에는 64cm 막대 하나만 가지고 있다.\n",
    "stick = 64\n",
    "Shortest = 64\n",
    "N = 1"
   ]
  },
  {
   "cell_type": "code",
   "execution_count": 2,
   "metadata": {},
   "outputs": [
    {
     "name": "stdout",
     "output_type": "stream",
     "text": [
      "23\n"
     ]
    }
   ],
   "source": [
    "# X값 입력받는다.\n",
    "X = int(input())"
   ]
  },
  {
   "cell_type": "code",
   "execution_count": 3,
   "metadata": {},
   "outputs": [],
   "source": [
    "## 합이 x보다 크다  아래 과정을 반복한다\n",
    "while(stick > X):\n",
    "    \n",
    "    ## 1. 가지고 있는 막대 중 길이가 가장 짧은 것을 절반으로 자른다.\n",
    "    Shortest /= 2\n",
    "    N += 1\n",
    "\n",
    "    ## 2. 만약, 위에서 자른 막대의 절반 중 하나를 버리고 남아있는 막대의 길이의 합이\n",
    "## x보다 크거나 같다면, 위에서 자른 막대의 절반 중 하나를 버린다.\n",
    "    if(stick-Shortest >= X):\n",
    "        stick -= Shortest\n",
    "        N -= 1"
   ]
  },
  {
   "cell_type": "code",
   "execution_count": 4,
   "metadata": {},
   "outputs": [
    {
     "name": "stdout",
     "output_type": "stream",
     "text": [
      "4\n"
     ]
    }
   ],
   "source": [
    "## 남아있는 모든 막대를 풀로 붙여서 x길이를 만든다.\n",
    "## x가 주어졌을 때, 위의 과정을 거친다면, 몇 개의 막대를 풀로 붙여서 x를 만들 수 있는가?\n",
    "\n",
    "print(N)"
   ]
  }
 ],
 "metadata": {
  "kernelspec": {
   "display_name": "Python 3",
   "language": "python",
   "name": "python3"
  },
  "language_info": {
   "codemirror_mode": {
    "name": "ipython",
    "version": 3
   },
   "file_extension": ".py",
   "mimetype": "text/x-python",
   "name": "python",
   "nbconvert_exporter": "python",
   "pygments_lexer": "ipython3",
   "version": "3.7.3"
  }
 },
 "nbformat": 4,
 "nbformat_minor": 2
}
