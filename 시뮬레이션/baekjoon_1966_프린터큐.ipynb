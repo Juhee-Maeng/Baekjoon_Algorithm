{
 "cells": [
  {
   "cell_type": "markdown",
   "metadata": {},
   "source": [
    "# baekjoon algorithm\n",
    "\n",
    "## 문제 번호 : 1966번\n",
    "\n",
    "## 제목 : 프린터 큐\n",
    "\n",
    "### 출처 : https://www.acmicpc.net/problem/1966"
   ]
  },
  {
   "cell_type": "markdown",
   "metadata": {},
   "source": [
    "***"
   ]
  },
  {
   "cell_type": "code",
   "execution_count": 1,
   "metadata": {},
   "outputs": [],
   "source": [
    "# 결고값 : 문서가 몇 번째로 인쇄되는가?\n",
    "def functions(m, queue, cnt):\n",
    "    while(1):\n",
    "        notice = 1\n",
    "        for i in range(1, len(queue)):\n",
    "            if(queue[0][1] < queue[i][1]):\n",
    "                queue.append(queue[0])\n",
    "                del queue[0]\n",
    "                notice = 0\n",
    "                break\n",
    "        if(notice == 0):\n",
    "            continue\n",
    "        else:\n",
    "            cnt += 1\n",
    "            if(queue[0][0] == m):\n",
    "                break\n",
    "            else:\n",
    "                del queue[0]\n",
    "    return cnt"
   ]
  },
  {
   "cell_type": "code",
   "execution_count": 2,
   "metadata": {},
   "outputs": [
    {
     "name": "stdout",
     "output_type": "stream",
     "text": [
      "3\n",
      "1 0\n",
      "5\n",
      "4 2\n",
      "1 2 3 4\n",
      "6 0\n",
      "1 1 9 1 1 1\n"
     ]
    }
   ],
   "source": [
    "#입력 갯수\n",
    "ip = int(input())\n",
    "\n",
    "list1 = []\n",
    "list2 = []\n",
    "print_list = []\n",
    "for i in range(ip):\n",
    "    list1.clear()\n",
    "    list2.clear()\n",
    "    N, M = map(int, input().split())\n",
    "    list1 = list(map(int, input().split()))\n",
    "    for j in range(N):\n",
    "        list2.append([j, list1[j]])\n",
    "    print_list.append(functions(M, list2, 0))"
   ]
  },
  {
   "cell_type": "code",
   "execution_count": 3,
   "metadata": {},
   "outputs": [
    {
     "name": "stdout",
     "output_type": "stream",
     "text": [
      "1\n",
      "2\n",
      "5\n"
     ]
    }
   ],
   "source": [
    "for i in print_list:\n",
    "    print(i)"
   ]
  }
 ],
 "metadata": {
  "kernelspec": {
   "display_name": "Python 3",
   "language": "python",
   "name": "python3"
  },
  "language_info": {
   "codemirror_mode": {
    "name": "ipython",
    "version": 3
   },
   "file_extension": ".py",
   "mimetype": "text/x-python",
   "name": "python",
   "nbconvert_exporter": "python",
   "pygments_lexer": "ipython3",
   "version": "3.7.3"
  }
 },
 "nbformat": 4,
 "nbformat_minor": 2
}
