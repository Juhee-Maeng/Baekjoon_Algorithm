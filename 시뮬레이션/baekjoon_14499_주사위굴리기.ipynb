{
 "cells": [
  {
   "cell_type": "markdown",
   "metadata": {},
   "source": [
    "## baekjoon algorithm\n",
    "\n",
    "### 문제 번호 : 14499번\n",
    "\n",
    "### 제목 : 주사위 굴리기\n",
    "\n",
    "#### 출처 : https://www.acmicpc.net/problem/14499"
   ]
  },
  {
   "cell_type": "markdown",
   "metadata": {},
   "source": [
    "***"
   ]
  },
  {
   "cell_type": "code",
   "execution_count": 1,
   "metadata": {},
   "outputs": [],
   "source": [
    "import copy"
   ]
  },
  {
   "cell_type": "code",
   "execution_count": 2,
   "metadata": {},
   "outputs": [],
   "source": [
    "#주사위를 원하는 방향으로 이동시켰을때, 주사위 각 위치에 어떤 값이 들어가는지\n",
    "def diceGo(direction, dice):\n",
    "    dice2 = copy.deepcopy(dice)\n",
    "    if(direction == 1):  #방향 1 : 동쪽\n",
    "        dice[0] = dice2[2]\n",
    "        dice[1] = dice2[4]\n",
    "        dice[2] = dice2[1]\n",
    "        dice[3] = dice2[3]\n",
    "        dice[4] = dice2[0]\n",
    "        dice[5] = dice2[5]\n",
    "    if(direction == 2):   #방향 2 : 서쪽\n",
    "        dice[0] = dice2[4]\n",
    "        dice[1] = dice2[2]\n",
    "        dice[2] = dice2[0]\n",
    "        dice[3] = dice2[3]\n",
    "        dice[4] = dice2[1]\n",
    "        dice[5] = dice2[5]\n",
    "    if(direction == 3):  #방향 3 : 북쪽\n",
    "        dice[0] = dice2[3]\n",
    "        dice[1] = dice2[5]\n",
    "        dice[2] = dice2[2]\n",
    "        dice[3] = dice2[1]\n",
    "        dice[4] = dice2[4]\n",
    "        dice[5] = dice2[0]\n",
    "    if(direction == 4):  #방향 4 : 남쪽\n",
    "        dice[0] = dice2[5]\n",
    "        dice[1] = dice2[3]\n",
    "        dice[2] = dice2[2]\n",
    "        dice[3] = dice2[0]\n",
    "        dice[4] = dice2[4]\n",
    "        dice[5] = dice2[1]"
   ]
  },
  {
   "cell_type": "markdown",
   "metadata": {},
   "source": [
    "***"
   ]
  },
  {
   "cell_type": "code",
   "execution_count": 3,
   "metadata": {},
   "outputs": [
    {
     "name": "stdout",
     "output_type": "stream",
     "text": [
      "4 2 0 0 8\n",
      "0 2\n",
      "3 4\n",
      "5 6\n",
      "7 8\n",
      "4 4 4 1 3 3 3 2\n"
     ]
    }
   ],
   "source": [
    "# input\n",
    "N,M,x,y,C = map(int, input().split())\n",
    "maplist = []\n",
    "for i in range(N):\n",
    "    maplist.append(list(map(int, input().split())))\n",
    "    \n",
    "commandList = list(map(int, input().split()))\n",
    "\n",
    "#주사위\n",
    "dice = [0]*6 #위, 아래, 왼쪽, 정면, 오른쪽, 뒤 순서로 할 것임.\n",
    "\n",
    "dx = [0,0,-1,1] #동서남북 순서\n",
    "dy = [1,-1,0,0]\n",
    "\n",
    "toplist= []\n",
    "for i in commandList:\n",
    "    new_x = x + dx[i-1]\n",
    "    new_y = y + dy[i-1]\n",
    "    if(0<=new_x and new_x<N and 0<=new_y and new_y<M):\n",
    "        x = new_x\n",
    "        y = new_y\n",
    "        #1.주사위를 굴린다.\n",
    "        diceGo(i, dice)\n",
    "        #2.칸에 있는 숫자가 0이라면 주사위 밑 부분을 복사한다\n",
    "        if(maplist[x][y] == 0):\n",
    "            maplist[x][y] = dice[1]\n",
    "        #3.칸에 있는 숫자가 0이 아니라면, 칸의 숫자를 주사위 밑 부분으로 복사한다.\n",
    "        else:\n",
    "            dice[1] = maplist[x][y]\n",
    "            maplist[x][y] = 0 #0으로 초기화\n",
    "        #4.현재 주사위의 top부분의 숫자를 기록한다.\n",
    "        toplist.append(dice[0])"
   ]
  },
  {
   "cell_type": "code",
   "execution_count": 4,
   "metadata": {
    "scrolled": true
   },
   "outputs": [
    {
     "name": "stdout",
     "output_type": "stream",
     "text": [
      "0\n",
      "0\n",
      "3\n",
      "0\n",
      "0\n",
      "8\n",
      "6\n",
      "3\n"
     ]
    }
   ],
   "source": [
    "#출력\n",
    "for i in toplist:\n",
    "    print(i)"
   ]
  }
 ],
 "metadata": {
  "kernelspec": {
   "display_name": "Python 3",
   "language": "python",
   "name": "python3"
  },
  "language_info": {
   "codemirror_mode": {
    "name": "ipython",
    "version": 3
   },
   "file_extension": ".py",
   "mimetype": "text/x-python",
   "name": "python",
   "nbconvert_exporter": "python",
   "pygments_lexer": "ipython3",
   "version": "3.7.3"
  }
 },
 "nbformat": 4,
 "nbformat_minor": 2
}
