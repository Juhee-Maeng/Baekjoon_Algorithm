{
 "cells": [
  {
   "cell_type": "markdown",
   "metadata": {},
   "source": [
    "# baekjoon algorithm\n",
    "\n",
    "## 문제 번호 : 1568번\n",
    "\n",
    "## 제목 : 새\n",
    "\n",
    "### 출처 : https://www.acmicpc.net/problem/1568"
   ]
  },
  {
   "cell_type": "code",
   "execution_count": 1,
   "metadata": {},
   "outputs": [
    {
     "name": "stdout",
     "output_type": "stream",
     "text": [
      "14\n"
     ]
    }
   ],
   "source": [
    "N = int(input())"
   ]
  },
  {
   "cell_type": "code",
   "execution_count": 2,
   "metadata": {},
   "outputs": [],
   "source": [
    "def N_X(n):\n",
    "    X = int((-1+(1+8*n)**(1/2))/2)\n",
    "    #(남은새, 몇번이나 끊기지 않고 날라갔는가를 return)\n",
    "    return int((n-X*(X+1)/2)),X"
   ]
  },
  {
   "cell_type": "code",
   "execution_count": 3,
   "metadata": {},
   "outputs": [
    {
     "name": "stdout",
     "output_type": "stream",
     "text": [
      "7\n"
     ]
    }
   ],
   "source": [
    "time = 0\n",
    "while(1):\n",
    "    if(N == 0):\n",
    "        print(time)\n",
    "        break\n",
    "    else:\n",
    "        time = time + N_X(N)[1]\n",
    "        N = N_X(N)[0]"
   ]
  }
 ],
 "metadata": {
  "kernelspec": {
   "display_name": "Python 3",
   "language": "python",
   "name": "python3"
  },
  "language_info": {
   "codemirror_mode": {
    "name": "ipython",
    "version": 3
   },
   "file_extension": ".py",
   "mimetype": "text/x-python",
   "name": "python",
   "nbconvert_exporter": "python",
   "pygments_lexer": "ipython3",
   "version": "3.7.3"
  }
 },
 "nbformat": 4,
 "nbformat_minor": 2
}
