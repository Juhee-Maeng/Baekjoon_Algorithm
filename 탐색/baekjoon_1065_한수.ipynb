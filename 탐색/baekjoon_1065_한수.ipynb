{
 "cells": [
  {
   "cell_type": "markdown",
   "metadata": {},
   "source": [
    "# baekjoon algorithm\n",
    "\n",
    "## 문제 번호 : 1065번\n",
    "\n",
    "## 제목 : 한수\n",
    "\n",
    "### 출처 : https://www.acmicpc.net/problem/1065"
   ]
  },
  {
   "cell_type": "code",
   "execution_count": 1,
   "metadata": {},
   "outputs": [
    {
     "name": "stdout",
     "output_type": "stream",
     "text": [
      "1000\n"
     ]
    }
   ],
   "source": [
    "N = int(input())"
   ]
  },
  {
   "cell_type": "code",
   "execution_count": 2,
   "metadata": {},
   "outputs": [],
   "source": [
    "#등차수열인지 판별한다\n",
    "#등차수열이면 1, 아니면 0을 return한다\n",
    "def hansu(n):\n",
    "    n_list = [int(i) for i in str(n)]\n",
    "    list_len = len(n_list)\n",
    "    \n",
    "    j=2\n",
    "    d = n_list[1] - n_list[0]\n",
    "    while(j <= list_len - 1):\n",
    "        if(d != n_list[j]-n_list[j-1]):\n",
    "            return 0\n",
    "        j += 1\n",
    "    return 1"
   ]
  },
  {
   "cell_type": "code",
   "execution_count": 3,
   "metadata": {},
   "outputs": [
    {
     "name": "stdout",
     "output_type": "stream",
     "text": [
      "144\n"
     ]
    }
   ],
   "source": [
    "if(N<100):\n",
    "    print(N)\n",
    "else:\n",
    "    answer = 99\n",
    "    x = 100\n",
    "    while(x<=N):\n",
    "        #등차수열이라면 answer을 +1\n",
    "        if(hansu(x)==1):\n",
    "            answer += 1\n",
    "        # x를 1씩 늘려서 N까지 등차수열 여부를 알아본다\n",
    "        x += 1\n",
    "    print(answer)"
   ]
  }
 ],
 "metadata": {
  "kernelspec": {
   "display_name": "Python 3",
   "language": "python",
   "name": "python3"
  },
  "language_info": {
   "codemirror_mode": {
    "name": "ipython",
    "version": 3
   },
   "file_extension": ".py",
   "mimetype": "text/x-python",
   "name": "python",
   "nbconvert_exporter": "python",
   "pygments_lexer": "ipython3",
   "version": "3.7.3"
  }
 },
 "nbformat": 4,
 "nbformat_minor": 2
}
