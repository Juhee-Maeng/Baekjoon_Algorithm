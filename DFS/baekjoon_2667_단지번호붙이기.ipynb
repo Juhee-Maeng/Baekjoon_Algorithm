{
 "cells": [
  {
   "cell_type": "markdown",
   "metadata": {},
   "source": [
    "# baekjoon algorithm\n",
    "\n",
    "## 문제 번호 : 2667번\n",
    "\n",
    "## 제목 : 단지 번호 붙이기\n",
    "\n",
    "### 출처 : https://www.acmicpc.net/problem/2667"
   ]
  },
  {
   "cell_type": "code",
   "execution_count": 1,
   "metadata": {},
   "outputs": [
    {
     "name": "stdout",
     "output_type": "stream",
     "text": [
      "7\n",
      "0110100\n",
      "0110101\n",
      "1110101\n",
      "0000111\n",
      "0100000\n",
      "0111110\n",
      "0111000\n"
     ]
    }
   ],
   "source": [
    "N = int(input())\n",
    "\n",
    "zero_padding = [0]*(N+2)\n",
    "\n",
    "# matrix 만들기\n",
    "N_matrix = []\n",
    "N_matrix.append(zero_padding)\n",
    "for i in range(N):\n",
    "    a = [int(j) for j in input()]\n",
    "    b = [0] + a + [0]\n",
    "    N_matrix.append(b)\n",
    "N_matrix.append(zero_padding)"
   ]
  },
  {
   "cell_type": "code",
   "execution_count": 2,
   "metadata": {},
   "outputs": [],
   "source": [
    "#DFS 함수\n",
    "def dfs(matrix, cnt, x, y):\n",
    "    matrix[x][y] = 0\n",
    "    #지나간 곳이므로, 0으로 만들어준다.\n",
    "    \n",
    "    dx = [1,-1,0,0]\n",
    "    dy = [0,0,1,-1]\n",
    "    #x변화량, y변화량 즉, 위 아래 양 옆 움직일 수 있는 경우에 대해서 표현한것\n",
    "    \n",
    "    for i in range(4):\n",
    "        new_x = x + dx[i]\n",
    "        new_y = y + dy[i]\n",
    "        \n",
    "        if(1<=new_x and new_x<=(N+1) and 1<=new_y and new_y<=(N+1)):\n",
    "            #범위 체크 먼저\n",
    "            if(matrix[new_x][new_y]==1):\n",
    "                #주변에 1이 있는지 확인\n",
    "                cnt = dfs(matrix,cnt+1,new_x,new_y)\n",
    "                #cnt를 증가시키고, 주변에 1이 있는지 확인\n",
    "    return cnt"
   ]
  },
  {
   "cell_type": "code",
   "execution_count": 3,
   "metadata": {},
   "outputs": [],
   "source": [
    "ans = []\n",
    "for q in range(N+1):\n",
    "    for p in range(N+1):\n",
    "        if N_matrix[q][p] == 1:\n",
    "            #(1인 지점을 찾았다면)\n",
    "            ans.append(dfs(N_matrix,1,q,p))"
   ]
  },
  {
   "cell_type": "code",
   "execution_count": 4,
   "metadata": {},
   "outputs": [
    {
     "name": "stdout",
     "output_type": "stream",
     "text": [
      "3\n",
      "7\n",
      "8\n",
      "9\n"
     ]
    }
   ],
   "source": [
    "ans.sort()\n",
    "print(len(ans))\n",
    "for i in ans:\n",
    "    print(i)"
   ]
  }
 ],
 "metadata": {
  "kernelspec": {
   "display_name": "Python 3",
   "language": "python",
   "name": "python3"
  },
  "language_info": {
   "codemirror_mode": {
    "name": "ipython",
    "version": 3
   },
   "file_extension": ".py",
   "mimetype": "text/x-python",
   "name": "python",
   "nbconvert_exporter": "python",
   "pygments_lexer": "ipython3",
   "version": "3.7.3"
  }
 },
 "nbformat": 4,
 "nbformat_minor": 2
}
