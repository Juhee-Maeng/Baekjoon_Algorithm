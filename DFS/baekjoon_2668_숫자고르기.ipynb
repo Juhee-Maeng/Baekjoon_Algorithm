{
 "cells": [
  {
   "cell_type": "markdown",
   "metadata": {},
   "source": [
    "# baekjoon algorithm\n",
    "\n",
    "## 문제 번호 : 2668번\n",
    "\n",
    "## 제목 : 숫자고르기\n",
    "\n",
    "### 출처 : https://www.acmicpc.net/problem/2668\n"
   ]
  },
  {
   "cell_type": "code",
   "execution_count": 1,
   "metadata": {},
   "outputs": [
    {
     "name": "stdout",
     "output_type": "stream",
     "text": [
      "7\n"
     ]
    }
   ],
   "source": [
    "import sys\n",
    "\n",
    "N = int(input())"
   ]
  },
  {
   "cell_type": "code",
   "execution_count": 2,
   "metadata": {},
   "outputs": [
    {
     "name": "stdout",
     "output_type": "stream",
     "text": [
      "3\n",
      "1\n",
      "1\n",
      "5\n",
      "5\n",
      "4\n",
      "6\n"
     ]
    }
   ],
   "source": [
    "dic = {}\n",
    "\n",
    "for i in range(N):\n",
    "    dic[i+1] = int(input())"
   ]
  },
  {
   "cell_type": "code",
   "execution_count": 3,
   "metadata": {},
   "outputs": [],
   "source": [
    "def dfs(graph,start,visited=[]):\n",
    "    if start not in visited:\n",
    "        visited.append(start)\n",
    "    \n",
    "    if(dic[start] in visited):\n",
    "        if(dic[start] == visited[0]):\n",
    "            return 1\n",
    "        else:\n",
    "            return 0\n",
    "    else:\n",
    "        visited.append(dic[start])\n",
    "        return dfs(graph,dic[start],visited)"
   ]
  },
  {
   "cell_type": "code",
   "execution_count": 4,
   "metadata": {},
   "outputs": [],
   "source": [
    "# A : 최대로 뽑힐 수 있는 숫자들의 리스트\n",
    "\n",
    "A = []\n",
    "for i in range(1,N+1):\n",
    "    visited = []\n",
    "    if(dfs(dic,i,visited)):\n",
    "        A.append(i)"
   ]
  },
  {
   "cell_type": "code",
   "execution_count": 5,
   "metadata": {},
   "outputs": [
    {
     "name": "stdout",
     "output_type": "stream",
     "text": [
      "3\n",
      "1\n",
      "3\n",
      "5\n"
     ]
    }
   ],
   "source": [
    "print(len(A))\n",
    "for i in A:\n",
    "    print(i)"
   ]
  }
 ],
 "metadata": {
  "kernelspec": {
   "display_name": "Python 3",
   "language": "python",
   "name": "python3"
  },
  "language_info": {
   "codemirror_mode": {
    "name": "ipython",
    "version": 3
   },
   "file_extension": ".py",
   "mimetype": "text/x-python",
   "name": "python",
   "nbconvert_exporter": "python",
   "pygments_lexer": "ipython3",
   "version": "3.7.3"
  }
 },
 "nbformat": 4,
 "nbformat_minor": 2
}
