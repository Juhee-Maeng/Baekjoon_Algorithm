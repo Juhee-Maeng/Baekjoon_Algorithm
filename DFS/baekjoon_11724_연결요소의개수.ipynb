{
 "cells": [
  {
   "cell_type": "markdown",
   "metadata": {},
   "source": [
    "# baekjoon algorithm\n",
    "\n",
    "## 문제 번호 : 11724번\n",
    "\n",
    "## 제목 : 연결 요소의 개수\n",
    "\n",
    "### 출처 : https://www.acmicpc.net/problem/11724"
   ]
  },
  {
   "cell_type": "code",
   "execution_count": 1,
   "metadata": {},
   "outputs": [],
   "source": [
    "import sys\n",
    "sys.setrecursionlimit(10**8)"
   ]
  },
  {
   "cell_type": "code",
   "execution_count": 2,
   "metadata": {},
   "outputs": [
    {
     "name": "stdout",
     "output_type": "stream",
     "text": [
      "6 5\n"
     ]
    }
   ],
   "source": [
    "N,M = map(int,input().split())"
   ]
  },
  {
   "cell_type": "code",
   "execution_count": 3,
   "metadata": {},
   "outputs": [],
   "source": [
    "# N_list : 1~N까지의 숫자를 item으로 갖고 있는 리스트\n",
    "# graph : N개의 점들의 연결 관계\n",
    "\n",
    "N_list = []\n",
    "graph = {}\n",
    "\n",
    "for i in range(N):\n",
    "    graph[i+1] = []\n",
    "    N_list.append(i+1)"
   ]
  },
  {
   "cell_type": "code",
   "execution_count": 4,
   "metadata": {},
   "outputs": [
    {
     "data": {
      "text/plain": [
       "{1: [], 2: [], 3: [], 4: [], 5: [], 6: []}"
      ]
     },
     "execution_count": 4,
     "metadata": {},
     "output_type": "execute_result"
    }
   ],
   "source": [
    "# graph"
   ]
  },
  {
   "cell_type": "code",
   "execution_count": 5,
   "metadata": {},
   "outputs": [
    {
     "data": {
      "text/plain": [
       "[1, 2, 3, 4, 5, 6]"
      ]
     },
     "execution_count": 5,
     "metadata": {},
     "output_type": "execute_result"
    }
   ],
   "source": [
    "# N_list"
   ]
  },
  {
   "cell_type": "code",
   "execution_count": 7,
   "metadata": {},
   "outputs": [
    {
     "name": "stdout",
     "output_type": "stream",
     "text": [
      "1 3\n",
      "2 3\n",
      "3 4\n",
      "1 4\n",
      "5 6\n"
     ]
    }
   ],
   "source": [
    "# M번의 연결 관계를 입력받아서 graph를 완성 시킨다.\n",
    "\n",
    "for i in range(M):\n",
    "    u,v = map(int, input().split())\n",
    "    # 백준에서 제출할 땐, input()대신 sys.stdin.readline() 사용\n",
    "    # u,v = map(int, sys.stdin.readline.split())\n",
    "    graph[u].append(v)\n",
    "    graph[v].append(u)"
   ]
  },
  {
   "cell_type": "code",
   "execution_count": 8,
   "metadata": {},
   "outputs": [
    {
     "data": {
      "text/plain": [
       "{1: [3, 4], 2: [3], 3: [1, 2, 4], 4: [3, 1], 5: [6], 6: [5]}"
      ]
     },
     "execution_count": 8,
     "metadata": {},
     "output_type": "execute_result"
    }
   ],
   "source": [
    "# graph"
   ]
  },
  {
   "cell_type": "code",
   "execution_count": 9,
   "metadata": {},
   "outputs": [],
   "source": [
    "#dfs 함수 : start와 연결되어 있는 점들을 list로 return한다.\n",
    "\n",
    "def dfs(graph, start, visited=[]):\n",
    "    visited.append(start)\n",
    "    \n",
    "    for i in graph[start]:\n",
    "        if(i not in visited):\n",
    "            dfs(graph, i, visited)\n",
    "    return visited"
   ]
  },
  {
   "cell_type": "code",
   "execution_count": 10,
   "metadata": {},
   "outputs": [],
   "source": [
    "# 어떠한 점과도 연결되지 않은 점이 경우에도, counting을 해주어야 하므로,\n",
    "# N_list가 빈 리스트가 될 때까지 시행한다.\n",
    "\n",
    "cnt = 0\n",
    "while(N_list):\n",
    "    cnt += 1\n",
    "    num = N_list[0]\n",
    "    num_list = dfs(graph,num,[])\n",
    "    \n",
    "    for i in num_list:\n",
    "        if(i in N_list):\n",
    "            N_list.remove(i)"
   ]
  },
  {
   "cell_type": "code",
   "execution_count": 11,
   "metadata": {},
   "outputs": [
    {
     "name": "stdout",
     "output_type": "stream",
     "text": [
      "2\n"
     ]
    }
   ],
   "source": [
    "print(cnt)"
   ]
  }
 ],
 "metadata": {
  "kernelspec": {
   "display_name": "Python 3",
   "language": "python",
   "name": "python3"
  },
  "language_info": {
   "codemirror_mode": {
    "name": "ipython",
    "version": 3
   },
   "file_extension": ".py",
   "mimetype": "text/x-python",
   "name": "python",
   "nbconvert_exporter": "python",
   "pygments_lexer": "ipython3",
   "version": "3.7.3"
  }
 },
 "nbformat": 4,
 "nbformat_minor": 2
}
