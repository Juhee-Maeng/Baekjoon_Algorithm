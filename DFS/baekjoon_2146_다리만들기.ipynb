{
 "cells": [
  {
   "cell_type": "markdown",
   "metadata": {},
   "source": [
    "# baekjoon algorithm\n",
    "\n",
    "## 문제 번호 : 2146번\n",
    "\n",
    "## 제목 : 다리 만들기\n",
    "\n",
    "### 출처 : https://www.acmicpc.net/problem/2146"
   ]
  },
  {
   "cell_type": "code",
   "execution_count": 1,
   "metadata": {},
   "outputs": [],
   "source": [
    "import sys\n",
    "\n",
    "#최대 재귀 깊이 설정\n",
    "sys.setrecursionlimit(10**8)"
   ]
  },
  {
   "cell_type": "code",
   "execution_count": 2,
   "metadata": {},
   "outputs": [
    {
     "name": "stdout",
     "output_type": "stream",
     "text": [
      "10\n",
      "1 1 1 0 0 0 0 1 1 1\n",
      "1 1 1 1 0 0 0 0 1 1\n",
      "1 0 1 1 0 0 0 0 1 1\n",
      "0 0 1 1 1 0 0 0 0 1\n",
      "0 0 0 1 0 0 0 0 0 1\n",
      "0 0 0 0 0 0 0 0 0 1\n",
      "0 0 0 0 0 0 0 0 0 0\n",
      "0 0 0 0 1 1 0 0 0 0\n",
      "0 0 0 0 1 1 1 0 0 0\n",
      "0 0 0 0 0 0 0 0 0 0\n"
     ]
    }
   ],
   "source": [
    "N = int(input())\n",
    "\n",
    "graph = []\n",
    "for i in range(N):\n",
    "    #graph.append(list(map(int, input().split())))\n",
    "    #백준에 제출할 땐, 아래처럼\n",
    "    graph.append(list(map(int, sys.stdin.readline().split())))"
   ]
  },
  {
   "cell_type": "markdown",
   "metadata": {},
   "source": [
    "dfs 함수"
   ]
  },
  {
   "cell_type": "code",
   "execution_count": 3,
   "metadata": {},
   "outputs": [],
   "source": [
    "def dfs(graph, x, y, land_list):\n",
    "    graph[x][y] = 0\n",
    "    land_list.append([x,y])\n",
    "    \n",
    "    dx = [0,1,0,-1]\n",
    "    dy = [1,0,-1,0]\n",
    "    \n",
    "    for i in range(4):\n",
    "        new_x = x+dx[i]\n",
    "        new_y = y+dy[i]\n",
    "        \n",
    "        if(0<=new_x and new_x<=N-1 and 0<=new_y and new_y<=N-1):\n",
    "            if(graph[new_x][new_y]==1):\n",
    "                dfs(graph,new_x,new_y,land_list)\n",
    "    return land_list"
   ]
  },
  {
   "cell_type": "markdown",
   "metadata": {},
   "source": [
    "A : 각 섬에 속하는 좌표들이 입력된다.  \n",
    "만일, len(A) = 3이라면, 서로 다른 섬이 3개 존재함을 의미"
   ]
  },
  {
   "cell_type": "code",
   "execution_count": 4,
   "metadata": {},
   "outputs": [],
   "source": [
    "A = []\n",
    "for i in range(N):\n",
    "    for j in range(N):\n",
    "        if(graph[i][j] == 1):\n",
    "            A.append(dfs(graph,i,j,[]))"
   ]
  },
  {
   "cell_type": "code",
   "execution_count": 5,
   "metadata": {},
   "outputs": [
    {
     "data": {
      "text/plain": [
       "3"
      ]
     },
     "execution_count": 5,
     "metadata": {},
     "output_type": "execute_result"
    }
   ],
   "source": [
    "len(A)"
   ]
  },
  {
   "cell_type": "code",
   "execution_count": 6,
   "metadata": {},
   "outputs": [
    {
     "data": {
      "text/plain": [
       "[[0, 0],\n",
       " [0, 1],\n",
       " [0, 2],\n",
       " [1, 2],\n",
       " [1, 3],\n",
       " [2, 3],\n",
       " [3, 3],\n",
       " [3, 4],\n",
       " [4, 3],\n",
       " [3, 2],\n",
       " [2, 2],\n",
       " [1, 1],\n",
       " [1, 0],\n",
       " [2, 0]]"
      ]
     },
     "execution_count": 6,
     "metadata": {},
     "output_type": "execute_result"
    }
   ],
   "source": [
    "A[0]"
   ]
  },
  {
   "cell_type": "code",
   "execution_count": 8,
   "metadata": {},
   "outputs": [
    {
     "data": {
      "text/plain": [
       "[[0, 7],\n",
       " [0, 8],\n",
       " [0, 9],\n",
       " [1, 9],\n",
       " [2, 9],\n",
       " [3, 9],\n",
       " [4, 9],\n",
       " [5, 9],\n",
       " [2, 8],\n",
       " [1, 8]]"
      ]
     },
     "execution_count": 8,
     "metadata": {},
     "output_type": "execute_result"
    }
   ],
   "source": [
    "A[1]"
   ]
  },
  {
   "cell_type": "code",
   "execution_count": 9,
   "metadata": {},
   "outputs": [
    {
     "data": {
      "text/plain": [
       "[[7, 4], [7, 5], [8, 5], [8, 6], [8, 4]]"
      ]
     },
     "execution_count": 9,
     "metadata": {},
     "output_type": "execute_result"
    }
   ],
   "source": [
    "A[2]"
   ]
  },
  {
   "cell_type": "markdown",
   "metadata": {},
   "source": [
    "좌표값을 item으로 갖고 있는 서로 다른 두개의 리스트를 비교하여, 가장 작은 좌표들간의 차이값을 구한다."
   ]
  },
  {
   "cell_type": "code",
   "execution_count": 11,
   "metadata": {},
   "outputs": [],
   "source": [
    "def dif(list_A, list_B):\n",
    "    answer_min = 1000000000000\n",
    "    \n",
    "    for i in list_A:\n",
    "        for j in list_B:\n",
    "            x = abs(i[0]-j[0]) + abs(i[1]-j[1])\n",
    "            if(x < answer_min):\n",
    "                answer_min = x\n",
    "    return answer_min"
   ]
  },
  {
   "cell_type": "code",
   "execution_count": 12,
   "metadata": {},
   "outputs": [
    {
     "name": "stdout",
     "output_type": "stream",
     "text": [
      "3\n"
     ]
    }
   ],
   "source": [
    "return_min = 100000000000\n",
    "for i in range(0,len(A)-1):\n",
    "    for j in range(i+1,len(A)):\n",
    "        y = dif(A[i], A[j])\n",
    "        if(y < return_min):\n",
    "            return_min = y\n",
    "\n",
    "print(return_min-1)"
   ]
  }
 ],
 "metadata": {
  "kernelspec": {
   "display_name": "Python 3",
   "language": "python",
   "name": "python3"
  },
  "language_info": {
   "codemirror_mode": {
    "name": "ipython",
    "version": 3
   },
   "file_extension": ".py",
   "mimetype": "text/x-python",
   "name": "python",
   "nbconvert_exporter": "python",
   "pygments_lexer": "ipython3",
   "version": "3.7.3"
  }
 },
 "nbformat": 4,
 "nbformat_minor": 2
}
