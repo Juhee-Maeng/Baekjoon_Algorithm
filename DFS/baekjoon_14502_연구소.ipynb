{
 "cells": [
  {
   "cell_type": "markdown",
   "metadata": {},
   "source": [
    "# baekjoon algorithm\n",
    "\n",
    "## 문제 번호 : 14502번\n",
    "\n",
    "## 제목 : 연구소\n",
    "\n",
    "### 출처 : https://www.acmicpc.net/problem/14502"
   ]
  },
  {
   "cell_type": "code",
   "execution_count": 3,
   "metadata": {},
   "outputs": [],
   "source": [
    "\"\"\"\n",
    " 1. (combination처럼) 벽 3개 세우기\n",
    " 2. copy된 리스트에서 바이러스 퍼뜨리기\n",
    " 3. 안전구역 구하기\n",
    " 4. 가능한한 모든 안전구역들 중, 최대값 구하기\n",
    "\"\"\"\n",
    "\n",
    "import sys\n",
    "import copy\n",
    "\n",
    "sys.setrecursionlimit(10**8)"
   ]
  },
  {
   "cell_type": "code",
   "execution_count": 4,
   "metadata": {},
   "outputs": [
    {
     "name": "stdout",
     "output_type": "stream",
     "text": [
      "7 7\n"
     ]
    }
   ],
   "source": [
    "# N,M = 세로,가로\n",
    "N,M = map(int, input().split())"
   ]
  },
  {
   "cell_type": "code",
   "execution_count": 5,
   "metadata": {},
   "outputs": [],
   "source": [
    "lbrt = [] # 연구소 맵\n",
    "virus_list = [] # 바이러스 위치\n",
    "wall = 0 # 벽의 갯수\n",
    "countMin = 100 # 바이러스 공간이 최소일때를 구한다."
   ]
  },
  {
   "cell_type": "code",
   "execution_count": 6,
   "metadata": {},
   "outputs": [
    {
     "name": "stdout",
     "output_type": "stream",
     "text": [
      "2 0 0 0 1 1 0\n",
      "0 0 1 0 1 2 0\n",
      "0 1 1 0 1 0 0\n",
      "0 1 0 0 0 0 0\n",
      "0 0 0 0 0 1 1\n",
      "0 1 0 0 0 0 0\n",
      "0 1 0 0 0 0 0\n"
     ]
    }
   ],
   "source": [
    "# 연구소 맵 입력받기\n",
    "\n",
    "for i in range(N):\n",
    "    lbrt.append(list(map(int, input().split())))"
   ]
  },
  {
   "cell_type": "code",
   "execution_count": 7,
   "metadata": {},
   "outputs": [],
   "source": [
    "# 바이러스 위치와 벽의 갯수 알아내기\n",
    "\n",
    "for i in range(N):\n",
    "    for j in range(M):\n",
    "        if(lbrt[i][j]==2):\n",
    "            virus_list.append([i,j])\n",
    "        if(lbrt[i][j]==1):\n",
    "            wall += 1"
   ]
  },
  {
   "cell_type": "code",
   "execution_count": 9,
   "metadata": {},
   "outputs": [
    {
     "data": {
      "text/plain": [
       "[[0, 0], [1, 5]]"
      ]
     },
     "execution_count": 9,
     "metadata": {},
     "output_type": "execute_result"
    }
   ],
   "source": [
    "# virus_list"
   ]
  },
  {
   "cell_type": "code",
   "execution_count": 10,
   "metadata": {},
   "outputs": [],
   "source": [
    "\"\"\" \n",
    " 바이러스가 퍼짐\n",
    " cnt는 감염된 공간의 수를 구함 -> cnt값이 작을수록 안전 영역이 크다.\n",
    " 즉, cnt를 이용하면 안전 영역 크기가 최대가 될 때를 알 수 있다.\n",
    "\"\"\"\n",
    "def Virus(lbrt_map, start_node, cnt): ## return cnt\n",
    "    dx = [0,1,0,-1]\n",
    "    dy = [1,0,-1,0]\n",
    "    \n",
    "    for i in range(4):\n",
    "        new_x = start_node[0]+dx[i]\n",
    "        new_y = start_node[1]+dy[i]\n",
    "        \n",
    "        ## 범위 체크\n",
    "        if(0<=new_x and new_x<N and 0<=new_y and new_y<M):\n",
    "            ## 주변에 숫자 0이 있을때\n",
    "            if(lbrt_map[new_x][new_y] == 0):\n",
    "                ## 바이러스 퍼뜨림\n",
    "                lbrt_map[new_x][new_y] = 2\n",
    "                ## cnt값 상승 (=바이러스에 새롭게 감염된 공간 수)\n",
    "                cnt = Virus(lbrt_map, [new_x, new_y], cnt+1)\n",
    "    return cnt"
   ]
  },
  {
   "cell_type": "code",
   "execution_count": 1,
   "metadata": {},
   "outputs": [],
   "source": [
    "# 3개의 벽 세우기\n",
    "def setWall(start, wall_num):\n",
    "    \n",
    "    global countMin\n",
    "    \n",
    "    # 벽을 3개 전부 세웠을 때\n",
    "    if(wall_num == 3):\n",
    "        lbrt_2 = copy.deepcopy(lbrt)\n",
    "        # count = cnt들의 총합\n",
    "        count = 0\n",
    "        for a,b in virus_list:\n",
    "            count += Virus(lbrt_2, [a,b], 0)\n",
    "        # 기존에 바이러스가 있던 공간은 Virus함수에서 count되지 않았기 때문에 더해준다.\n",
    "        count = count + len(virus_list)\n",
    "        countMin = min(countMin, count)\n",
    "        return\n",
    "\n",
    "    for i in range(start,N*M):\n",
    "        x = i//M\n",
    "        y = i%M\n",
    "        \n",
    "        if(lbrt[x][y] == 0):\n",
    "            lbrt[x][y] = 1\n",
    "            setWall(i+1, wall_num+1)\n",
    "            lbrt[x][y] = 0"
   ]
  },
  {
   "cell_type": "code",
   "execution_count": 11,
   "metadata": {},
   "outputs": [],
   "source": [
    "setWall(0,0)"
   ]
  },
  {
   "cell_type": "code",
   "execution_count": 12,
   "metadata": {},
   "outputs": [
    {
     "name": "stdout",
     "output_type": "stream",
     "text": [
      "27\n"
     ]
    }
   ],
   "source": [
    "# 안전 영역의 최댓값\n",
    "\n",
    "print(N*M - countMin - (wall+3))"
   ]
  }
 ],
 "metadata": {
  "kernelspec": {
   "display_name": "Python 3",
   "language": "python",
   "name": "python3"
  },
  "language_info": {
   "codemirror_mode": {
    "name": "ipython",
    "version": 3
   },
   "file_extension": ".py",
   "mimetype": "text/x-python",
   "name": "python",
   "nbconvert_exporter": "python",
   "pygments_lexer": "ipython3",
   "version": "3.7.3"
  }
 },
 "nbformat": 4,
 "nbformat_minor": 2
}
