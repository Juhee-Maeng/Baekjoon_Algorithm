{
 "cells": [
  {
   "cell_type": "markdown",
   "metadata": {},
   "source": [
    "# baekjoon algorithm\n",
    "\n",
    "## 문제 번호 : 11403번\n",
    "\n",
    "## 제목 : 경로 찾기\n",
    "\n",
    "### 출처 : https://www.acmicpc.net/problem/11403"
   ]
  },
  {
   "cell_type": "code",
   "execution_count": 1,
   "metadata": {},
   "outputs": [
    {
     "name": "stdout",
     "output_type": "stream",
     "text": [
      "7\n",
      "0 0 0 1 0 0 0\n",
      "0 0 0 0 0 0 1\n",
      "0 0 0 0 0 0 0\n",
      "0 0 0 0 1 1 0\n",
      "1 0 0 0 0 0 0\n",
      "0 0 0 0 0 0 1\n",
      "0 0 1 0 0 0 0\n"
     ]
    }
   ],
   "source": [
    "import sys\n",
    "\n",
    "#입력값 받기\n",
    "N = int(input())\n",
    "\n",
    "matrix = []\n",
    "for i in range(N):\n",
    "    # 제출할 땐, input()대신 sys.stdin.readline() 사용\n",
    "    ## matrix.append([int(j) for j in sys.stdin.readline().split()])\n",
    "    matrix.append([int(j) for j in input().split()])"
   ]
  },
  {
   "cell_type": "code",
   "execution_count": 2,
   "metadata": {},
   "outputs": [],
   "source": [
    "#입력값을 토대로 graph만들기\n",
    "graph = {}\n",
    "for i in range(N):\n",
    "    graph[i+1] = []\n",
    "    for j in range(N):\n",
    "        if(matrix[i][j] == 1):\n",
    "            graph[i+1].append(j+1)"
   ]
  },
  {
   "cell_type": "code",
   "execution_count": 3,
   "metadata": {},
   "outputs": [],
   "source": [
    "# dfs함수\n",
    "def dfs(graph, start, visit = []):\n",
    "    \n",
    "    for node in graph[start]:\n",
    "        if node not in visit:\n",
    "            # 갈 수 있는 이동경로가 간선임을 생각해서 갈 수 있는 경로를 밑에 추가했다.\n",
    "            visit.append(node)\n",
    "            dfs(graph, node, visit)\n",
    "    return visit"
   ]
  },
  {
   "cell_type": "code",
   "execution_count": 4,
   "metadata": {},
   "outputs": [
    {
     "name": "stdout",
     "output_type": "stream",
     "text": [
      "1 0 1 1 1 1 1 \n",
      "0 0 1 0 0 0 1 \n",
      "0 0 0 0 0 0 0 \n",
      "1 0 1 1 1 1 1 \n",
      "1 0 1 1 1 1 1 \n",
      "0 0 1 0 0 0 1 \n",
      "0 0 1 0 0 0 0 \n"
     ]
    }
   ],
   "source": [
    "# 출력\n",
    "for i in range(N):\n",
    "    visit = []\n",
    "    x = dfs(graph,i+1,visit)\n",
    "    y = [0]*N\n",
    "    for j in x:\n",
    "        y[j-1] = 1\n",
    "    for w in y:\n",
    "        print(w,end=\" \")\n",
    "    print()"
   ]
  }
 ],
 "metadata": {
  "kernelspec": {
   "display_name": "Python 3",
   "language": "python",
   "name": "python3"
  },
  "language_info": {
   "codemirror_mode": {
    "name": "ipython",
    "version": 3
   },
   "file_extension": ".py",
   "mimetype": "text/x-python",
   "name": "python",
   "nbconvert_exporter": "python",
   "pygments_lexer": "ipython3",
   "version": "3.7.3"
  }
 },
 "nbformat": 4,
 "nbformat_minor": 2
}
